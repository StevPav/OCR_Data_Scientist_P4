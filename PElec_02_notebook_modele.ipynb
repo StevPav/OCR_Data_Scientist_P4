{
 "cells": [
  {
   "cell_type": "markdown",
   "metadata": {},
   "source": [
    "## Définition des variables et modèles "
   ]
  },
  {
   "cell_type": "code",
   "execution_count": 2,
   "metadata": {},
   "outputs": [],
   "source": [
    "import pandas as pd\n",
    "import matplotlib.pyplot as plt\n",
    "import numpy as np\n",
    "import seaborn as sns\n",
    "from sklearn import linear_model, preprocessing, metrics\n",
    "from sklearn.model_selection import train_test_split, GridSearchCV\n",
    "from sklearn.svm import SVR\n",
    "from sklearn.linear_model import Ridge, Lasso, ElasticNet\n",
    "from sklearn.ensemble import RandomForestRegressor\n",
    "from lightgbm import LGBMRegressor\n",
    "from sklearn.feature_selection import SelectKBest, RFE, RFECV, chi2, f_regression\n",
    "import time"
   ]
  },
  {
   "cell_type": "markdown",
   "metadata": {},
   "source": [
    "Chargement du dataset pré-traité"
   ]
  },
  {
   "cell_type": "code",
   "execution_count": 3,
   "metadata": {},
   "outputs": [],
   "source": [
    "df = pd.read_csv('df_for_model.csv')\n",
    "df = df.drop('Unnamed: 0',axis=1)"
   ]
  },
  {
   "cell_type": "markdown",
   "metadata": {},
   "source": [
    "Suppression des individus 'Hospital' qui agissent comme outliers"
   ]
  },
  {
   "cell_type": "code",
   "execution_count": 4,
   "metadata": {},
   "outputs": [],
   "source": [
    "df=df.drop(df[df['PrimaryPropertyType']=='Hospital'].index)"
   ]
  },
  {
   "cell_type": "markdown",
   "metadata": {},
   "source": [
    "Encodage des variables catégorielles 'Neighborhood' et 'PrimaryPropertyType'"
   ]
  },
  {
   "cell_type": "code",
   "execution_count": 5,
   "metadata": {},
   "outputs": [
    {
     "data": {
      "text/plain": [
       "(1800, 13)"
      ]
     },
     "execution_count": 5,
     "metadata": {},
     "output_type": "execute_result"
    }
   ],
   "source": [
    "data=df['Neighborhood'].values.reshape(-1,1)\n",
    "enc = preprocessing.OneHotEncoder()\n",
    "neighborhood_enc = enc.fit_transform(data).toarray()\n",
    "neighborhood_enc.shape"
   ]
  },
  {
   "cell_type": "code",
   "execution_count": 6,
   "metadata": {},
   "outputs": [
    {
     "data": {
      "text/plain": [
       "(1800, 24)"
      ]
     },
     "execution_count": 6,
     "metadata": {},
     "output_type": "execute_result"
    }
   ],
   "source": [
    "data=df['PrimaryPropertyType'].values.reshape(-1,1)\n",
    "enc = preprocessing.OneHotEncoder()\n",
    "PropertyType_enc = enc.fit_transform(data).toarray()\n",
    "PropertyType_enc.shape"
   ]
  },
  {
   "cell_type": "code",
   "execution_count": 7,
   "metadata": {},
   "outputs": [
    {
     "data": {
      "text/plain": [
       "(1800, 37)"
      ]
     },
     "execution_count": 7,
     "metadata": {},
     "output_type": "execute_result"
    }
   ],
   "source": [
    "# Concatenation des 2 encodages\n",
    "X_cat = np.concatenate((neighborhood_enc,PropertyType_enc),axis=1)\n",
    "X_cat.shape"
   ]
  },
  {
   "cell_type": "markdown",
   "metadata": {},
   "source": [
    "Sélection des features encodées (utilisées uniquement pour certains prétraitements)"
   ]
  },
  {
   "cell_type": "code",
   "execution_count": 8,
   "metadata": {},
   "outputs": [],
   "source": [
    "# X_cat = np.concatenate((neighborhood_enc,df[['Laboratory', 'Wholesale Club/Supercenter', 'Residential Care Facility',\n",
    "#        'Refrigerated Warehouse', 'Other/Specialty Hospital',\n",
    "#        'Other - Technology/Science', 'Other - Mall', 'Convention Center',\n",
    "#        'Strip Mall', 'Vocational School', 'Police Station', 'Hotel',\n",
    "#        'Food Service', 'SPS-District K-12', 'Supermarket/Grocery Store',\n",
    "#        'Data Center', 'Urgent Care/Clinic/Other Outpatient', 'Library',\n",
    "#        'Automobile Dealership', 'Senior Care Community',\n",
    "#        'Other - Restaurant/Bar', 'Convenience Store without Gas Station',\n",
    "#        'Parking', 'Hospital (General Medical & Surgical)',\n",
    "#        'Prison/Incarceration', 'Worship Facility', 'Medical Office', 'Other',\n",
    "#        'Bar/Nightclub', 'Other - Education', 'Self-Storage Facility',\n",
    "#        'Other - Public Services', 'Movie Theater', 'Swimming Pool',\n",
    "#        'Repair Services (Vehicle; Shoe; Locksmith; etc)', 'Single Family Home',\n",
    "#        'Personal Services (Health/Beauty; Dry Cleaning; etc)',\n",
    "#        'Energy/Power Station', 'Residence Hall/Dormitory',\n",
    "#        'Other - Recreation', 'Social/Meeting Hall',\n",
    "#        'Small- and Mid-Sized Office', 'Courthouse', 'Distribution Center',\n",
    "#        'Other - Services', 'Museum', 'Retail Store', 'Office',\n",
    "#        'College/University', 'Hospital', 'Fitness Center/Health Club/Gym',\n",
    "#        'Fast Food Restaurant', 'Multifamily Housing', 'Lifestyle Center',\n",
    "#        'Fire Station', 'Manufacturing/Industrial Plant', 'K-12 School',\n",
    "#        'Other - Entertainment/Public Assembly', 'Bank Branch', 'Food Sales',\n",
    "#        'Adult Education', 'Large Office', 'Non-Refrigerated Warehouse',\n",
    "#        'Outpatient Rehabilitation/Physical Therapy', 'Mixed Use Property',\n",
    "#        'Restaurant', 'Other - Lodging/Residential', 'Pre-school/Daycare',\n",
    "#        'Enclosed Mall', 'Performing Arts', 'Other - Utility',\n",
    "#        'Financial Office']].to_numpy()),axis=1)"
   ]
  },
  {
   "cell_type": "markdown",
   "metadata": {},
   "source": [
    "Définition des variables quantitatives"
   ]
  },
  {
   "cell_type": "code",
   "execution_count": 9,
   "metadata": {},
   "outputs": [
    {
     "data": {
      "text/plain": [
       "(1800, 10)"
      ]
     },
     "execution_count": 9,
     "metadata": {},
     "output_type": "execute_result"
    }
   ],
   "source": [
    "X_quant = df[['YearBuilt', 'NumberofBuildings', 'NumberofFloors',\n",
    "       'PropertyGFABuilding(s)','PropertyGFAParking','LargestPropertyUseTypeGFA','SecondLargestPropertyUseTypeGFA','MedianEnergyUse','MedianGHGEmission','NumberofUseTypes']]\n",
    "X_quant.values.shape"
   ]
  },
  {
   "cell_type": "markdown",
   "metadata": {},
   "source": [
    "Définition des cibles"
   ]
  },
  {
   "cell_type": "code",
   "execution_count": 10,
   "metadata": {},
   "outputs": [],
   "source": [
    "Y_energy = df['SiteEnergyUse(kBtu)_log']\n",
    "Y_ghg = df['GHGEmissions(MetricTonsCO2e)_log']"
   ]
  },
  {
   "cell_type": "markdown",
   "metadata": {},
   "source": [
    "Séparation en jeu d'entrainement et de test. Avec un ratio de 0.3, stratifié par type de bâtiment"
   ]
  },
  {
   "cell_type": "code",
   "execution_count": 11,
   "metadata": {},
   "outputs": [],
   "source": [
    "X_cat_train, X_cat_test, X_quant_train, X_quant_test, Y_energy_train, Y_energy_test, Y_ghg_train, Y_ghg_test = train_test_split(X_cat, X_quant, Y_energy, Y_ghg, test_size=0.3, stratify=df['PrimaryPropertyType'],random_state = 1)"
   ]
  },
  {
   "cell_type": "code",
   "execution_count": 12,
   "metadata": {},
   "outputs": [],
   "source": [
    "# On standardise les variables input quantitatives. On fit_transform sur le jeu d'entrainement et on transforme le jeu de test\n",
    "std = preprocessing.StandardScaler()\n",
    "X_quant_train_scaled = std.fit_transform(X_quant_train)\n",
    "X_quant_test_scaled = std.transform(X_quant_test)"
   ]
  },
  {
   "cell_type": "code",
   "execution_count": 13,
   "metadata": {},
   "outputs": [],
   "source": [
    "# Concatenation pour définir les input\n",
    "X_train = np.concatenate((X_cat_train,X_quant_train_scaled),axis=1)\n",
    "X_test = np.concatenate((X_cat_test,X_quant_test_scaled),axis=1)"
   ]
  },
  {
   "cell_type": "markdown",
   "metadata": {},
   "source": [
    "Définition des tableaux récapitulatifs"
   ]
  },
  {
   "cell_type": "code",
   "execution_count": 380,
   "metadata": {},
   "outputs": [],
   "source": [
    "recap_energy = pd.DataFrame(columns = ['R²','RMSE','Prediction time','Best parameters']).rename_axis('Model for energy')\n",
    "recap_ghg = pd.DataFrame(columns = ['R²','RMSE','Prediction time','Best parameters']).rename_axis('Model for GHG')"
   ]
  },
  {
   "cell_type": "markdown",
   "metadata": {},
   "source": [
    "Définition des fonctions de modélisation et de remplissage des tableaux"
   ]
  },
  {
   "cell_type": "code",
   "execution_count": 381,
   "metadata": {},
   "outputs": [],
   "source": [
    "def perf(X_train,Y_train,X_test,Y_test,model,hyperparam):\n",
    "    \n",
    "    '''Fonction permettant la recherche des meilleurs hyperparamètres d'un modèle puis \n",
    "    l'entrainement de ce modèle avec ces meilleurs paramètres sur le jeu X_train, Y_train\n",
    "    La fonction retourne les performances du modèle (R², RMSE, temps d'éxécution) et les meilleurs paramètres\n",
    "    \n",
    "    le paramètre 'hyperparam' de la fonction est un dictionnaire\n",
    "    '''\n",
    "\n",
    "        \n",
    "    model_gs = GridSearchCV(estimator = model, param_grid=hyperparam, cv=5)      # définition de la Cross-Validation\n",
    "        \n",
    "    model_gs.fit(X_train, Y_train) #Fit du modèle sur le jeu d'entrainement\n",
    "    start_time = time.time()   #Initialisation pour calcul du temps d'inférence\n",
    "    score = round(metrics.r2_score(np.expm1(Y_test),np.expm1(model_gs.predict(X_test))),5)  #calcul du score R²   \n",
    "    RMSE = round(metrics.mean_squared_error(np.expm1(Y_test),np.expm1(model_gs.predict(X_test)), squared = False),5)  #calcul de la RMSE \n",
    "    pred_time = round(time.time()-start_time, 6)  #calcul du temps d'inférence \n",
    "    best_param = model_gs.best_params_   # Détermination des meilleurs paramètres\n",
    "    for k, v in best_param.items():\n",
    "        if type(v)!= str :\n",
    "            best_param[k] = round(v, 6)\n",
    "   \n",
    "    return score,RMSE, pred_time, best_param\n",
    "\n",
    "\n",
    "\n",
    "def recap_table_log(X_train,Y_energy_train,Y_ghg_train,X_test,Y_energy_test,Y_ghg_test,model,hyperparam):\n",
    "    '''Fonction calculant les scores, RMSE, temps d'inférence et paramètres grâce à la fonction 'perf'\n",
    "    Remplissage des tableaux pour chaque modèle appelé\n",
    "    '''\n",
    "    score,RMSE, pred_time, best_param = perf(X_train,Y_energy_train,X_test,Y_energy_test,model,hyperparam)\n",
    "    recap_energy.loc[str(model),:] = [score,RMSE,pred_time,best_param]\n",
    "    \n",
    "    score, RMSE, pred_time, best_param = perf(X_train,Y_ghg_train,X_test,Y_ghg_test,model,hyperparam)\n",
    "    recap_ghg.loc[str(model),:] = [score,RMSE,pred_time,best_param]"
   ]
  },
  {
   "cell_type": "markdown",
   "metadata": {},
   "source": [
    "## Modélisations"
   ]
  },
  {
   "cell_type": "markdown",
   "metadata": {},
   "source": [
    "Appel des fonctions"
   ]
  },
  {
   "cell_type": "code",
   "execution_count": 382,
   "metadata": {},
   "outputs": [],
   "source": [
    "LinearReg = linear_model.LinearRegression();\n",
    "recap_table_log(X_train,Y_energy_train,Y_ghg_train,X_test,Y_energy_test,Y_ghg_test,LinearReg,{})"
   ]
  },
  {
   "cell_type": "code",
   "execution_count": 383,
   "metadata": {},
   "outputs": [],
   "source": [
    "ridge = Ridge();\n",
    "recap_table_log(X_train,Y_energy_train,Y_ghg_train,X_test,Y_energy_test,Y_ghg_test,ridge,{'alpha': np.logspace(-4,2,100)})"
   ]
  },
  {
   "cell_type": "code",
   "execution_count": 384,
   "metadata": {},
   "outputs": [
    {
     "name": "stderr",
     "output_type": "stream",
     "text": [
      "C:\\Users\\BENAVEN\\anaconda3\\lib\\site-packages\\sklearn\\linear_model\\_coordinate_descent.py:529: ConvergenceWarning: Objective did not converge. You might want to increase the number of iterations. Duality gap: 3.935034334568627, tolerance: 0.1824427546098573\n",
      "  model = cd_fast.enet_coordinate_descent(\n",
      "C:\\Users\\BENAVEN\\anaconda3\\lib\\site-packages\\sklearn\\linear_model\\_coordinate_descent.py:529: ConvergenceWarning: Objective did not converge. You might want to increase the number of iterations. Duality gap: 6.240771630153745, tolerance: 0.18273387622930856\n",
      "  model = cd_fast.enet_coordinate_descent(\n",
      "C:\\Users\\BENAVEN\\anaconda3\\lib\\site-packages\\sklearn\\linear_model\\_coordinate_descent.py:529: ConvergenceWarning: Objective did not converge. You might want to increase the number of iterations. Duality gap: 7.932044972869562, tolerance: 0.18543458887163247\n",
      "  model = cd_fast.enet_coordinate_descent(\n",
      "C:\\Users\\BENAVEN\\anaconda3\\lib\\site-packages\\sklearn\\linear_model\\_coordinate_descent.py:529: ConvergenceWarning: Objective did not converge. You might want to increase the number of iterations. Duality gap: 24.894429479276255, tolerance: 0.17517760807167526\n",
      "  model = cd_fast.enet_coordinate_descent(\n",
      "C:\\Users\\BENAVEN\\anaconda3\\lib\\site-packages\\sklearn\\linear_model\\_coordinate_descent.py:529: ConvergenceWarning: Objective did not converge. You might want to increase the number of iterations. Duality gap: 4.487745893968395, tolerance: 0.1824427546098573\n",
      "  model = cd_fast.enet_coordinate_descent(\n",
      "C:\\Users\\BENAVEN\\anaconda3\\lib\\site-packages\\sklearn\\linear_model\\_coordinate_descent.py:529: ConvergenceWarning: Objective did not converge. You might want to increase the number of iterations. Duality gap: 6.746370007696555, tolerance: 0.18273387622930856\n",
      "  model = cd_fast.enet_coordinate_descent(\n",
      "C:\\Users\\BENAVEN\\anaconda3\\lib\\site-packages\\sklearn\\linear_model\\_coordinate_descent.py:529: ConvergenceWarning: Objective did not converge. You might want to increase the number of iterations. Duality gap: 7.9916488098876926, tolerance: 0.18543458887163247\n",
      "  model = cd_fast.enet_coordinate_descent(\n",
      "C:\\Users\\BENAVEN\\anaconda3\\lib\\site-packages\\sklearn\\linear_model\\_coordinate_descent.py:529: ConvergenceWarning: Objective did not converge. You might want to increase the number of iterations. Duality gap: 24.174309295630678, tolerance: 0.17517760807167526\n",
      "  model = cd_fast.enet_coordinate_descent(\n",
      "C:\\Users\\BENAVEN\\anaconda3\\lib\\site-packages\\sklearn\\linear_model\\_coordinate_descent.py:529: ConvergenceWarning: Objective did not converge. You might want to increase the number of iterations. Duality gap: 4.569138890361614, tolerance: 0.1824427546098573\n",
      "  model = cd_fast.enet_coordinate_descent(\n",
      "C:\\Users\\BENAVEN\\anaconda3\\lib\\site-packages\\sklearn\\linear_model\\_coordinate_descent.py:529: ConvergenceWarning: Objective did not converge. You might want to increase the number of iterations. Duality gap: 6.767993333293475, tolerance: 0.18273387622930856\n",
      "  model = cd_fast.enet_coordinate_descent(\n",
      "C:\\Users\\BENAVEN\\anaconda3\\lib\\site-packages\\sklearn\\linear_model\\_coordinate_descent.py:529: ConvergenceWarning: Objective did not converge. You might want to increase the number of iterations. Duality gap: 8.023781432443684, tolerance: 0.18543458887163247\n",
      "  model = cd_fast.enet_coordinate_descent(\n",
      "C:\\Users\\BENAVEN\\anaconda3\\lib\\site-packages\\sklearn\\linear_model\\_coordinate_descent.py:529: ConvergenceWarning: Objective did not converge. You might want to increase the number of iterations. Duality gap: 3.0625029933653423, tolerance: 0.1824427546098573\n",
      "  model = cd_fast.enet_coordinate_descent(\n",
      "C:\\Users\\BENAVEN\\anaconda3\\lib\\site-packages\\sklearn\\linear_model\\_coordinate_descent.py:529: ConvergenceWarning: Objective did not converge. You might want to increase the number of iterations. Duality gap: 6.775395573219953, tolerance: 0.18273387622930856\n",
      "  model = cd_fast.enet_coordinate_descent(\n",
      "C:\\Users\\BENAVEN\\anaconda3\\lib\\site-packages\\sklearn\\linear_model\\_coordinate_descent.py:529: ConvergenceWarning: Objective did not converge. You might want to increase the number of iterations. Duality gap: 8.058864684572427, tolerance: 0.18543458887163247\n",
      "  model = cd_fast.enet_coordinate_descent(\n",
      "C:\\Users\\BENAVEN\\anaconda3\\lib\\site-packages\\sklearn\\linear_model\\_coordinate_descent.py:529: ConvergenceWarning: Objective did not converge. You might want to increase the number of iterations. Duality gap: 0.5891491617123847, tolerance: 0.1824427546098573\n",
      "  model = cd_fast.enet_coordinate_descent(\n",
      "C:\\Users\\BENAVEN\\anaconda3\\lib\\site-packages\\sklearn\\linear_model\\_coordinate_descent.py:529: ConvergenceWarning: Objective did not converge. You might want to increase the number of iterations. Duality gap: 6.7875900188693095, tolerance: 0.18273387622930856\n",
      "  model = cd_fast.enet_coordinate_descent(\n",
      "C:\\Users\\BENAVEN\\anaconda3\\lib\\site-packages\\sklearn\\linear_model\\_coordinate_descent.py:529: ConvergenceWarning: Objective did not converge. You might want to increase the number of iterations. Duality gap: 7.267623664717917, tolerance: 0.18543458887163247\n",
      "  model = cd_fast.enet_coordinate_descent(\n",
      "C:\\Users\\BENAVEN\\anaconda3\\lib\\site-packages\\sklearn\\linear_model\\_coordinate_descent.py:529: ConvergenceWarning: Objective did not converge. You might want to increase the number of iterations. Duality gap: 6.80511863196125, tolerance: 0.18273387622930856\n",
      "  model = cd_fast.enet_coordinate_descent(\n",
      "C:\\Users\\BENAVEN\\anaconda3\\lib\\site-packages\\sklearn\\linear_model\\_coordinate_descent.py:529: ConvergenceWarning: Objective did not converge. You might want to increase the number of iterations. Duality gap: 6.1858980859126405, tolerance: 0.18543458887163247\n",
      "  model = cd_fast.enet_coordinate_descent(\n",
      "C:\\Users\\BENAVEN\\anaconda3\\lib\\site-packages\\sklearn\\linear_model\\_coordinate_descent.py:529: ConvergenceWarning: Objective did not converge. You might want to increase the number of iterations. Duality gap: 6.829630339268647, tolerance: 0.18273387622930856\n",
      "  model = cd_fast.enet_coordinate_descent(\n",
      "C:\\Users\\BENAVEN\\anaconda3\\lib\\site-packages\\sklearn\\linear_model\\_coordinate_descent.py:529: ConvergenceWarning: Objective did not converge. You might want to increase the number of iterations. Duality gap: 1.4575778761228548, tolerance: 0.18543458887163247\n",
      "  model = cd_fast.enet_coordinate_descent(\n",
      "C:\\Users\\BENAVEN\\anaconda3\\lib\\site-packages\\sklearn\\linear_model\\_coordinate_descent.py:529: ConvergenceWarning: Objective did not converge. You might want to increase the number of iterations. Duality gap: 6.8617036132759495, tolerance: 0.18273387622930856\n",
      "  model = cd_fast.enet_coordinate_descent(\n",
      "C:\\Users\\BENAVEN\\anaconda3\\lib\\site-packages\\sklearn\\linear_model\\_coordinate_descent.py:529: ConvergenceWarning: Objective did not converge. You might want to increase the number of iterations. Duality gap: 0.5082200458448369, tolerance: 0.18543458887163247\n",
      "  model = cd_fast.enet_coordinate_descent(\n",
      "C:\\Users\\BENAVEN\\anaconda3\\lib\\site-packages\\sklearn\\linear_model\\_coordinate_descent.py:529: ConvergenceWarning: Objective did not converge. You might want to increase the number of iterations. Duality gap: 6.901633096961746, tolerance: 0.18273387622930856\n",
      "  model = cd_fast.enet_coordinate_descent(\n",
      "C:\\Users\\BENAVEN\\anaconda3\\lib\\site-packages\\sklearn\\linear_model\\_coordinate_descent.py:529: ConvergenceWarning: Objective did not converge. You might want to increase the number of iterations. Duality gap: 0.19913021583545287, tolerance: 0.18543458887163247\n",
      "  model = cd_fast.enet_coordinate_descent(\n",
      "C:\\Users\\BENAVEN\\anaconda3\\lib\\site-packages\\sklearn\\linear_model\\_coordinate_descent.py:529: ConvergenceWarning: Objective did not converge. You might want to increase the number of iterations. Duality gap: 4.099599136193319, tolerance: 0.18273387622930856\n",
      "  model = cd_fast.enet_coordinate_descent(\n",
      "C:\\Users\\BENAVEN\\anaconda3\\lib\\site-packages\\sklearn\\linear_model\\_coordinate_descent.py:529: ConvergenceWarning: Objective did not converge. You might want to increase the number of iterations. Duality gap: 1.226816137845958, tolerance: 0.18273387622930856\n",
      "  model = cd_fast.enet_coordinate_descent(\n",
      "C:\\Users\\BENAVEN\\anaconda3\\lib\\site-packages\\sklearn\\linear_model\\_coordinate_descent.py:529: ConvergenceWarning: Objective did not converge. You might want to increase the number of iterations. Duality gap: 0.3310385745754729, tolerance: 0.18273387622930856\n",
      "  model = cd_fast.enet_coordinate_descent(\n",
      "C:\\Users\\BENAVEN\\anaconda3\\lib\\site-packages\\sklearn\\linear_model\\_coordinate_descent.py:529: ConvergenceWarning: Objective did not converge. You might want to increase the number of iterations. Duality gap: 77.1164649203721, tolerance: 0.2098895700617248\n",
      "  model = cd_fast.enet_coordinate_descent(\n",
      "C:\\Users\\BENAVEN\\anaconda3\\lib\\site-packages\\sklearn\\linear_model\\_coordinate_descent.py:529: ConvergenceWarning: Objective did not converge. You might want to increase the number of iterations. Duality gap: 99.22817915343387, tolerance: 0.2123016365984499\n",
      "  model = cd_fast.enet_coordinate_descent(\n",
      "C:\\Users\\BENAVEN\\anaconda3\\lib\\site-packages\\sklearn\\linear_model\\_coordinate_descent.py:529: ConvergenceWarning: Objective did not converge. You might want to increase the number of iterations. Duality gap: 132.59656224420382, tolerance: 0.20849336905682572\n",
      "  model = cd_fast.enet_coordinate_descent(\n",
      "C:\\Users\\BENAVEN\\anaconda3\\lib\\site-packages\\sklearn\\linear_model\\_coordinate_descent.py:529: ConvergenceWarning: Objective did not converge. You might want to increase the number of iterations. Duality gap: 44.71595849112043, tolerance: 0.20481097163163015\n",
      "  model = cd_fast.enet_coordinate_descent(\n",
      "C:\\Users\\BENAVEN\\anaconda3\\lib\\site-packages\\sklearn\\linear_model\\_coordinate_descent.py:529: ConvergenceWarning: Objective did not converge. You might want to increase the number of iterations. Duality gap: 243.3815075142981, tolerance: 0.21087900580936325\n",
      "  model = cd_fast.enet_coordinate_descent(\n",
      "C:\\Users\\BENAVEN\\anaconda3\\lib\\site-packages\\sklearn\\linear_model\\_coordinate_descent.py:529: ConvergenceWarning: Objective did not converge. You might want to increase the number of iterations. Duality gap: 77.18905769532535, tolerance: 0.2098895700617248\n",
      "  model = cd_fast.enet_coordinate_descent(\n",
      "C:\\Users\\BENAVEN\\anaconda3\\lib\\site-packages\\sklearn\\linear_model\\_coordinate_descent.py:529: ConvergenceWarning: Objective did not converge. You might want to increase the number of iterations. Duality gap: 99.25700343780545, tolerance: 0.2123016365984499\n",
      "  model = cd_fast.enet_coordinate_descent(\n",
      "C:\\Users\\BENAVEN\\anaconda3\\lib\\site-packages\\sklearn\\linear_model\\_coordinate_descent.py:529: ConvergenceWarning: Objective did not converge. You might want to increase the number of iterations. Duality gap: 132.69401288239976, tolerance: 0.20849336905682572\n",
      "  model = cd_fast.enet_coordinate_descent(\n",
      "C:\\Users\\BENAVEN\\anaconda3\\lib\\site-packages\\sklearn\\linear_model\\_coordinate_descent.py:529: ConvergenceWarning: Objective did not converge. You might want to increase the number of iterations. Duality gap: 36.03756325926281, tolerance: 0.20481097163163015\n",
      "  model = cd_fast.enet_coordinate_descent(\n",
      "C:\\Users\\BENAVEN\\anaconda3\\lib\\site-packages\\sklearn\\linear_model\\_coordinate_descent.py:529: ConvergenceWarning: Objective did not converge. You might want to increase the number of iterations. Duality gap: 77.27663272406028, tolerance: 0.2098895700617248\n",
      "  model = cd_fast.enet_coordinate_descent(\n",
      "C:\\Users\\BENAVEN\\anaconda3\\lib\\site-packages\\sklearn\\linear_model\\_coordinate_descent.py:529: ConvergenceWarning: Objective did not converge. You might want to increase the number of iterations. Duality gap: 99.33289830465299, tolerance: 0.2123016365984499\n",
      "  model = cd_fast.enet_coordinate_descent(\n",
      "C:\\Users\\BENAVEN\\anaconda3\\lib\\site-packages\\sklearn\\linear_model\\_coordinate_descent.py:529: ConvergenceWarning: Objective did not converge. You might want to increase the number of iterations. Duality gap: 132.80192144800947, tolerance: 0.20849336905682572\n",
      "  model = cd_fast.enet_coordinate_descent(\n",
      "C:\\Users\\BENAVEN\\anaconda3\\lib\\site-packages\\sklearn\\linear_model\\_coordinate_descent.py:529: ConvergenceWarning: Objective did not converge. You might want to increase the number of iterations. Duality gap: 31.49358469175297, tolerance: 0.20481097163163015\n",
      "  model = cd_fast.enet_coordinate_descent(\n",
      "C:\\Users\\BENAVEN\\anaconda3\\lib\\site-packages\\sklearn\\linear_model\\_coordinate_descent.py:529: ConvergenceWarning: Objective did not converge. You might want to increase the number of iterations. Duality gap: 77.37547068217361, tolerance: 0.2098895700617248\n",
      "  model = cd_fast.enet_coordinate_descent(\n",
      "C:\\Users\\BENAVEN\\anaconda3\\lib\\site-packages\\sklearn\\linear_model\\_coordinate_descent.py:529: ConvergenceWarning: Objective did not converge. You might want to increase the number of iterations. Duality gap: 100.26219665787164, tolerance: 0.2123016365984499\n",
      "  model = cd_fast.enet_coordinate_descent(\n",
      "C:\\Users\\BENAVEN\\anaconda3\\lib\\site-packages\\sklearn\\linear_model\\_coordinate_descent.py:529: ConvergenceWarning: Objective did not converge. You might want to increase the number of iterations. Duality gap: 132.92056553855252, tolerance: 0.20849336905682572\n",
      "  model = cd_fast.enet_coordinate_descent(\n",
      "C:\\Users\\BENAVEN\\anaconda3\\lib\\site-packages\\sklearn\\linear_model\\_coordinate_descent.py:529: ConvergenceWarning: Objective did not converge. You might want to increase the number of iterations. Duality gap: 16.578531022640846, tolerance: 0.20481097163163015\n",
      "  model = cd_fast.enet_coordinate_descent(\n",
      "C:\\Users\\BENAVEN\\anaconda3\\lib\\site-packages\\sklearn\\linear_model\\_coordinate_descent.py:529: ConvergenceWarning: Objective did not converge. You might want to increase the number of iterations. Duality gap: 77.48669240030642, tolerance: 0.2098895700617248\n",
      "  model = cd_fast.enet_coordinate_descent(\n",
      "C:\\Users\\BENAVEN\\anaconda3\\lib\\site-packages\\sklearn\\linear_model\\_coordinate_descent.py:529: ConvergenceWarning: Objective did not converge. You might want to increase the number of iterations. Duality gap: 85.89221681057938, tolerance: 0.2123016365984499\n",
      "  model = cd_fast.enet_coordinate_descent(\n",
      "C:\\Users\\BENAVEN\\anaconda3\\lib\\site-packages\\sklearn\\linear_model\\_coordinate_descent.py:529: ConvergenceWarning: Objective did not converge. You might want to increase the number of iterations. Duality gap: 133.04981640420385, tolerance: 0.20849336905682572\n",
      "  model = cd_fast.enet_coordinate_descent(\n",
      "C:\\Users\\BENAVEN\\anaconda3\\lib\\site-packages\\sklearn\\linear_model\\_coordinate_descent.py:529: ConvergenceWarning: Objective did not converge. You might want to increase the number of iterations. Duality gap: 16.909798490261323, tolerance: 0.20481097163163015\n",
      "  model = cd_fast.enet_coordinate_descent(\n",
      "C:\\Users\\BENAVEN\\anaconda3\\lib\\site-packages\\sklearn\\linear_model\\_coordinate_descent.py:529: ConvergenceWarning: Objective did not converge. You might want to increase the number of iterations. Duality gap: 77.61137657340112, tolerance: 0.2098895700617248\n",
      "  model = cd_fast.enet_coordinate_descent(\n",
      "C:\\Users\\BENAVEN\\anaconda3\\lib\\site-packages\\sklearn\\linear_model\\_coordinate_descent.py:529: ConvergenceWarning: Objective did not converge. You might want to increase the number of iterations. Duality gap: 146.82153938586464, tolerance: 0.20849336905682572\n",
      "  model = cd_fast.enet_coordinate_descent(\n",
      "C:\\Users\\BENAVEN\\anaconda3\\lib\\site-packages\\sklearn\\linear_model\\_coordinate_descent.py:529: ConvergenceWarning: Objective did not converge. You might want to increase the number of iterations. Duality gap: 17.23587051850984, tolerance: 0.20481097163163015\n",
      "  model = cd_fast.enet_coordinate_descent(\n",
      "C:\\Users\\BENAVEN\\anaconda3\\lib\\site-packages\\sklearn\\linear_model\\_coordinate_descent.py:529: ConvergenceWarning: Objective did not converge. You might want to increase the number of iterations. Duality gap: 34.63117155012628, tolerance: 0.2098895700617248\n",
      "  model = cd_fast.enet_coordinate_descent(\n",
      "C:\\Users\\BENAVEN\\anaconda3\\lib\\site-packages\\sklearn\\linear_model\\_coordinate_descent.py:529: ConvergenceWarning: Objective did not converge. You might want to increase the number of iterations. Duality gap: 110.90131995223305, tolerance: 0.20849336905682572\n",
      "  model = cd_fast.enet_coordinate_descent(\n",
      "C:\\Users\\BENAVEN\\anaconda3\\lib\\site-packages\\sklearn\\linear_model\\_coordinate_descent.py:529: ConvergenceWarning: Objective did not converge. You might want to increase the number of iterations. Duality gap: 17.52786697017939, tolerance: 0.20481097163163015\n",
      "  model = cd_fast.enet_coordinate_descent(\n",
      "C:\\Users\\BENAVEN\\anaconda3\\lib\\site-packages\\sklearn\\linear_model\\_coordinate_descent.py:529: ConvergenceWarning: Objective did not converge. You might want to increase the number of iterations. Duality gap: 129.64197361474692, tolerance: 0.20849336905682572\n",
      "  model = cd_fast.enet_coordinate_descent(\n",
      "C:\\Users\\BENAVEN\\anaconda3\\lib\\site-packages\\sklearn\\linear_model\\_coordinate_descent.py:529: ConvergenceWarning: Objective did not converge. You might want to increase the number of iterations. Duality gap: 13.235999682102374, tolerance: 0.20481097163163015\n",
      "  model = cd_fast.enet_coordinate_descent(\n",
      "C:\\Users\\BENAVEN\\anaconda3\\lib\\site-packages\\sklearn\\linear_model\\_coordinate_descent.py:529: ConvergenceWarning: Objective did not converge. You might want to increase the number of iterations. Duality gap: 21.493428031983058, tolerance: 0.20849336905682572\n",
      "  model = cd_fast.enet_coordinate_descent(\n",
      "C:\\Users\\BENAVEN\\anaconda3\\lib\\site-packages\\sklearn\\linear_model\\_coordinate_descent.py:529: ConvergenceWarning: Objective did not converge. You might want to increase the number of iterations. Duality gap: 6.336563861626246, tolerance: 0.20481097163163015\n",
      "  model = cd_fast.enet_coordinate_descent(\n",
      "C:\\Users\\BENAVEN\\anaconda3\\lib\\site-packages\\sklearn\\linear_model\\_coordinate_descent.py:529: ConvergenceWarning: Objective did not converge. You might want to increase the number of iterations. Duality gap: 3.3477722913667094, tolerance: 0.20481097163163015\n",
      "  model = cd_fast.enet_coordinate_descent(\n",
      "C:\\Users\\BENAVEN\\anaconda3\\lib\\site-packages\\sklearn\\linear_model\\_coordinate_descent.py:529: ConvergenceWarning: Objective did not converge. You might want to increase the number of iterations. Duality gap: 2.039127291845716, tolerance: 0.20481097163163015\n",
      "  model = cd_fast.enet_coordinate_descent(\n",
      "C:\\Users\\BENAVEN\\anaconda3\\lib\\site-packages\\sklearn\\linear_model\\_coordinate_descent.py:529: ConvergenceWarning: Objective did not converge. You might want to increase the number of iterations. Duality gap: 1.0333344458874762, tolerance: 0.20481097163163015\n",
      "  model = cd_fast.enet_coordinate_descent(\n",
      "C:\\Users\\BENAVEN\\anaconda3\\lib\\site-packages\\sklearn\\linear_model\\_coordinate_descent.py:529: ConvergenceWarning: Objective did not converge. You might want to increase the number of iterations. Duality gap: 0.5397699195491441, tolerance: 0.20481097163163015\n",
      "  model = cd_fast.enet_coordinate_descent(\n",
      "C:\\Users\\BENAVEN\\anaconda3\\lib\\site-packages\\sklearn\\linear_model\\_coordinate_descent.py:529: ConvergenceWarning: Objective did not converge. You might want to increase the number of iterations. Duality gap: 0.3441613425363812, tolerance: 0.20481097163163015\n",
      "  model = cd_fast.enet_coordinate_descent(\n",
      "C:\\Users\\BENAVEN\\anaconda3\\lib\\site-packages\\sklearn\\linear_model\\_coordinate_descent.py:529: ConvergenceWarning: Objective did not converge. You might want to increase the number of iterations. Duality gap: 0.24565454767184747, tolerance: 0.20481097163163015\n",
      "  model = cd_fast.enet_coordinate_descent(\n"
     ]
    }
   ],
   "source": [
    "lasso = Lasso();\n",
    "recap_table_log(X_train,Y_energy_train,Y_ghg_train,X_test,Y_energy_test,Y_ghg_test,lasso,{'alpha': np.logspace(-4,2,100)})"
   ]
  },
  {
   "cell_type": "code",
   "execution_count": 385,
   "metadata": {},
   "outputs": [],
   "source": [
    "svr = SVR(kernel = 'linear');\n",
    "recap_table_log(X_train,Y_energy_train,Y_ghg_train,X_test,Y_energy_test,Y_ghg_test,svr,{'C' : range(1,5),\n",
    "                                       'epsilon' : np.linspace(0.1,1,10)})"
   ]
  },
  {
   "cell_type": "code",
   "execution_count": 386,
   "metadata": {},
   "outputs": [],
   "source": [
    "svr = SVR();\n",
    "recap_table_log(X_train,Y_energy_train,Y_ghg_train,X_test,Y_energy_test,Y_ghg_test,svr,{'C' : range(1,5),\n",
    "                                        'epsilon' : np.linspace(0.1,1,10), \n",
    "                                       'kernel' : ['rbf','poly','sigmoid']})"
   ]
  },
  {
   "cell_type": "code",
   "execution_count": 387,
   "metadata": {},
   "outputs": [],
   "source": [
    "rfr = RandomForestRegressor();\n",
    "recap_table_log(X_train,Y_energy_train,Y_ghg_train,X_test,Y_energy_test,Y_ghg_test, rfr, {'min_samples_split' : [2, 5, 10], \n",
    "                                             'min_samples_leaf' : [1, 2, 4], \n",
    "                                             'max_depth': range(5,16,1)})"
   ]
  },
  {
   "cell_type": "code",
   "execution_count": 388,
   "metadata": {},
   "outputs": [],
   "source": [
    "gb = LGBMRegressor();\n",
    "recap_table_log(X_train,Y_energy_train,Y_ghg_train,X_test,Y_energy_test,Y_ghg_test, gb, {'n_estimators': [100],'max_depth': [2,3,4], \n",
    "                                                                                                     'learning_rate' : [0.0001,0.001,0.01,0.1,1], \n",
    "                                                                                                     'boosting_type' : ['gbdt','goss', 'dart']})"
   ]
  },
  {
   "cell_type": "markdown",
   "metadata": {},
   "source": [
    "Enregistrement des tableaux récapitulatifs"
   ]
  },
  {
   "cell_type": "code",
   "execution_count": 389,
   "metadata": {},
   "outputs": [],
   "source": [
    "model4_energy = recap_energy"
   ]
  },
  {
   "cell_type": "code",
   "execution_count": 390,
   "metadata": {},
   "outputs": [],
   "source": [
    "model4_ghg = recap_ghg"
   ]
  },
  {
   "cell_type": "code",
   "execution_count": 391,
   "metadata": {},
   "outputs": [
    {
     "data": {
      "text/html": [
       "<div>\n",
       "<style scoped>\n",
       "    .dataframe tbody tr th:only-of-type {\n",
       "        vertical-align: middle;\n",
       "    }\n",
       "\n",
       "    .dataframe tbody tr th {\n",
       "        vertical-align: top;\n",
       "    }\n",
       "\n",
       "    .dataframe thead th {\n",
       "        text-align: right;\n",
       "    }\n",
       "</style>\n",
       "<table border=\"1\" class=\"dataframe\">\n",
       "  <thead>\n",
       "    <tr style=\"text-align: right;\">\n",
       "      <th></th>\n",
       "      <th>R²</th>\n",
       "      <th>RMSE</th>\n",
       "      <th>Prediction time</th>\n",
       "      <th>Best parameters</th>\n",
       "    </tr>\n",
       "    <tr>\n",
       "      <th>Model for energy</th>\n",
       "      <th></th>\n",
       "      <th></th>\n",
       "      <th></th>\n",
       "      <th></th>\n",
       "    </tr>\n",
       "  </thead>\n",
       "  <tbody>\n",
       "    <tr>\n",
       "      <th>LinearRegression()</th>\n",
       "      <td>-1.58554e+22</td>\n",
       "      <td>5.14174e+18</td>\n",
       "      <td>0.004006</td>\n",
       "      <td>{}</td>\n",
       "    </tr>\n",
       "    <tr>\n",
       "      <th>Ridge()</th>\n",
       "      <td>-3.1723e+22</td>\n",
       "      <td>7.27292e+18</td>\n",
       "      <td>0.002002</td>\n",
       "      <td>{'alpha': 0.162975}</td>\n",
       "    </tr>\n",
       "    <tr>\n",
       "      <th>Lasso()</th>\n",
       "      <td>-4.02895e+22</td>\n",
       "      <td>8.1963e+18</td>\n",
       "      <td>0.002003</td>\n",
       "      <td>{'alpha': 0.000266}</td>\n",
       "    </tr>\n",
       "    <tr>\n",
       "      <th>SVR(kernel='linear')</th>\n",
       "      <td>-4.70132e+31</td>\n",
       "      <td>2.79983e+23</td>\n",
       "      <td>0.036002</td>\n",
       "      <td>{'C': 1, 'epsilon': 0.6}</td>\n",
       "    </tr>\n",
       "    <tr>\n",
       "      <th>SVR()</th>\n",
       "      <td>0.11695</td>\n",
       "      <td>3.83721e+07</td>\n",
       "      <td>0.096011</td>\n",
       "      <td>{'C': 4, 'epsilon': 0.2, 'kernel': 'rbf'}</td>\n",
       "    </tr>\n",
       "    <tr>\n",
       "      <th>RandomForestRegressor()</th>\n",
       "      <td>0.26509</td>\n",
       "      <td>3.50057e+07</td>\n",
       "      <td>0.055995</td>\n",
       "      <td>{'max_depth': 15, 'min_samples_leaf': 2, 'min_...</td>\n",
       "    </tr>\n",
       "    <tr>\n",
       "      <th>LGBMRegressor()</th>\n",
       "      <td>0.19746</td>\n",
       "      <td>3.6581e+07</td>\n",
       "      <td>0.011528</td>\n",
       "      <td>{'boosting_type': 'gbdt', 'learning_rate': 0.1...</td>\n",
       "    </tr>\n",
       "  </tbody>\n",
       "</table>\n",
       "</div>"
      ],
      "text/plain": [
       "                                  R²         RMSE Prediction time  \\\n",
       "Model for energy                                                    \n",
       "LinearRegression()      -1.58554e+22  5.14174e+18        0.004006   \n",
       "Ridge()                  -3.1723e+22  7.27292e+18        0.002002   \n",
       "Lasso()                 -4.02895e+22   8.1963e+18        0.002003   \n",
       "SVR(kernel='linear')    -4.70132e+31  2.79983e+23        0.036002   \n",
       "SVR()                        0.11695  3.83721e+07        0.096011   \n",
       "RandomForestRegressor()      0.26509  3.50057e+07        0.055995   \n",
       "LGBMRegressor()              0.19746   3.6581e+07        0.011528   \n",
       "\n",
       "                                                           Best parameters  \n",
       "Model for energy                                                            \n",
       "LinearRegression()                                                      {}  \n",
       "Ridge()                                                {'alpha': 0.162975}  \n",
       "Lasso()                                                {'alpha': 0.000266}  \n",
       "SVR(kernel='linear')                              {'C': 1, 'epsilon': 0.6}  \n",
       "SVR()                            {'C': 4, 'epsilon': 0.2, 'kernel': 'rbf'}  \n",
       "RandomForestRegressor()  {'max_depth': 15, 'min_samples_leaf': 2, 'min_...  \n",
       "LGBMRegressor()          {'boosting_type': 'gbdt', 'learning_rate': 0.1...  "
      ]
     },
     "execution_count": 391,
     "metadata": {},
     "output_type": "execute_result"
    }
   ],
   "source": [
    "model1_energy"
   ]
  },
  {
   "cell_type": "code",
   "execution_count": 392,
   "metadata": {},
   "outputs": [
    {
     "data": {
      "text/html": [
       "<div>\n",
       "<style scoped>\n",
       "    .dataframe tbody tr th:only-of-type {\n",
       "        vertical-align: middle;\n",
       "    }\n",
       "\n",
       "    .dataframe tbody tr th {\n",
       "        vertical-align: top;\n",
       "    }\n",
       "\n",
       "    .dataframe thead th {\n",
       "        text-align: right;\n",
       "    }\n",
       "</style>\n",
       "<table border=\"1\" class=\"dataframe\">\n",
       "  <thead>\n",
       "    <tr style=\"text-align: right;\">\n",
       "      <th></th>\n",
       "      <th>R²</th>\n",
       "      <th>RMSE</th>\n",
       "      <th>Prediction time</th>\n",
       "      <th>Best parameters</th>\n",
       "    </tr>\n",
       "    <tr>\n",
       "      <th>Model for energy</th>\n",
       "      <th></th>\n",
       "      <th></th>\n",
       "      <th></th>\n",
       "      <th></th>\n",
       "    </tr>\n",
       "  </thead>\n",
       "  <tbody>\n",
       "    <tr>\n",
       "      <th>LinearRegression()</th>\n",
       "      <td>-6.36346e+22</td>\n",
       "      <td>1.03007e+19</td>\n",
       "      <td>0.003004</td>\n",
       "      <td>{}</td>\n",
       "    </tr>\n",
       "    <tr>\n",
       "      <th>Ridge()</th>\n",
       "      <td>-3.8982e+23</td>\n",
       "      <td>2.5495e+19</td>\n",
       "      <td>0.001</td>\n",
       "      <td>{'alpha': 2.31013}</td>\n",
       "    </tr>\n",
       "    <tr>\n",
       "      <th>Lasso()</th>\n",
       "      <td>-7.53376e+23</td>\n",
       "      <td>3.54428e+19</td>\n",
       "      <td>0.001002</td>\n",
       "      <td>{'alpha': 0.002154}</td>\n",
       "    </tr>\n",
       "    <tr>\n",
       "      <th>SVR(kernel='linear')</th>\n",
       "      <td>-8.92957e+29</td>\n",
       "      <td>3.85867e+22</td>\n",
       "      <td>0.022002</td>\n",
       "      <td>{'C': 1, 'epsilon': 0.6}</td>\n",
       "    </tr>\n",
       "    <tr>\n",
       "      <th>SVR()</th>\n",
       "      <td>0.12311</td>\n",
       "      <td>3.82379e+07</td>\n",
       "      <td>0.086005</td>\n",
       "      <td>{'C': 2, 'epsilon': 0.2, 'kernel': 'rbf'}</td>\n",
       "    </tr>\n",
       "    <tr>\n",
       "      <th>RandomForestRegressor()</th>\n",
       "      <td>0.29464</td>\n",
       "      <td>3.42947e+07</td>\n",
       "      <td>0.033796</td>\n",
       "      <td>{'max_depth': 11, 'min_samples_leaf': 2, 'min_...</td>\n",
       "    </tr>\n",
       "    <tr>\n",
       "      <th>LGBMRegressor()</th>\n",
       "      <td>0.31187</td>\n",
       "      <td>3.38733e+07</td>\n",
       "      <td>0.006001</td>\n",
       "      <td>{'boosting_type': 'gbdt', 'learning_rate': 0.1...</td>\n",
       "    </tr>\n",
       "  </tbody>\n",
       "</table>\n",
       "</div>"
      ],
      "text/plain": [
       "                                  R²         RMSE Prediction time  \\\n",
       "Model for energy                                                    \n",
       "LinearRegression()      -6.36346e+22  1.03007e+19        0.003004   \n",
       "Ridge()                  -3.8982e+23   2.5495e+19           0.001   \n",
       "Lasso()                 -7.53376e+23  3.54428e+19        0.001002   \n",
       "SVR(kernel='linear')    -8.92957e+29  3.85867e+22        0.022002   \n",
       "SVR()                        0.12311  3.82379e+07        0.086005   \n",
       "RandomForestRegressor()      0.29464  3.42947e+07        0.033796   \n",
       "LGBMRegressor()              0.31187  3.38733e+07        0.006001   \n",
       "\n",
       "                                                           Best parameters  \n",
       "Model for energy                                                            \n",
       "LinearRegression()                                                      {}  \n",
       "Ridge()                                                 {'alpha': 2.31013}  \n",
       "Lasso()                                                {'alpha': 0.002154}  \n",
       "SVR(kernel='linear')                              {'C': 1, 'epsilon': 0.6}  \n",
       "SVR()                            {'C': 2, 'epsilon': 0.2, 'kernel': 'rbf'}  \n",
       "RandomForestRegressor()  {'max_depth': 11, 'min_samples_leaf': 2, 'min_...  \n",
       "LGBMRegressor()          {'boosting_type': 'gbdt', 'learning_rate': 0.1...  "
      ]
     },
     "execution_count": 392,
     "metadata": {},
     "output_type": "execute_result"
    }
   ],
   "source": [
    "model2_energy"
   ]
  },
  {
   "cell_type": "code",
   "execution_count": 393,
   "metadata": {},
   "outputs": [
    {
     "data": {
      "text/html": [
       "<div>\n",
       "<style scoped>\n",
       "    .dataframe tbody tr th:only-of-type {\n",
       "        vertical-align: middle;\n",
       "    }\n",
       "\n",
       "    .dataframe tbody tr th {\n",
       "        vertical-align: top;\n",
       "    }\n",
       "\n",
       "    .dataframe thead th {\n",
       "        text-align: right;\n",
       "    }\n",
       "</style>\n",
       "<table border=\"1\" class=\"dataframe\">\n",
       "  <thead>\n",
       "    <tr style=\"text-align: right;\">\n",
       "      <th></th>\n",
       "      <th>R²</th>\n",
       "      <th>RMSE</th>\n",
       "      <th>Prediction time</th>\n",
       "      <th>Best parameters</th>\n",
       "    </tr>\n",
       "    <tr>\n",
       "      <th>Model for energy</th>\n",
       "      <th></th>\n",
       "      <th></th>\n",
       "      <th></th>\n",
       "      <th></th>\n",
       "    </tr>\n",
       "  </thead>\n",
       "  <tbody>\n",
       "    <tr>\n",
       "      <th>Ridge()</th>\n",
       "      <td>-4.57473e+23</td>\n",
       "      <td>2.76188e+19</td>\n",
       "      <td>0.002</td>\n",
       "      <td>{'alpha': 3.053856}</td>\n",
       "    </tr>\n",
       "    <tr>\n",
       "      <th>Lasso()</th>\n",
       "      <td>-5.20824e+23</td>\n",
       "      <td>2.94691e+19</td>\n",
       "      <td>0.003002</td>\n",
       "      <td>{'alpha': 0.001417}</td>\n",
       "    </tr>\n",
       "    <tr>\n",
       "      <th>SVR(kernel='linear')</th>\n",
       "      <td>-5.68873e+30</td>\n",
       "      <td>9.73934e+22</td>\n",
       "      <td>0.100007</td>\n",
       "      <td>{'C': 1, 'epsilon': 0.3}</td>\n",
       "    </tr>\n",
       "    <tr>\n",
       "      <th>SVR()</th>\n",
       "      <td>0.1259</td>\n",
       "      <td>3.81771e+07</td>\n",
       "      <td>0.192016</td>\n",
       "      <td>{'C': 3, 'epsilon': 0.1, 'kernel': 'rbf'}</td>\n",
       "    </tr>\n",
       "    <tr>\n",
       "      <th>RandomForestRegressor()</th>\n",
       "      <td>0.29833</td>\n",
       "      <td>3.4205e+07</td>\n",
       "      <td>0.126012</td>\n",
       "      <td>{'max_depth': 13, 'min_samples_leaf': 1, 'min_...</td>\n",
       "    </tr>\n",
       "    <tr>\n",
       "      <th>LGBMRegressor()</th>\n",
       "      <td>0.32415</td>\n",
       "      <td>3.35695e+07</td>\n",
       "      <td>0.006001</td>\n",
       "      <td>{'boosting_type': 'gbdt', 'learning_rate': 0.1...</td>\n",
       "    </tr>\n",
       "  </tbody>\n",
       "</table>\n",
       "</div>"
      ],
      "text/plain": [
       "                                  R²         RMSE Prediction time  \\\n",
       "Model for energy                                                    \n",
       "Ridge()                 -4.57473e+23  2.76188e+19           0.002   \n",
       "Lasso()                 -5.20824e+23  2.94691e+19        0.003002   \n",
       "SVR(kernel='linear')    -5.68873e+30  9.73934e+22        0.100007   \n",
       "SVR()                         0.1259  3.81771e+07        0.192016   \n",
       "RandomForestRegressor()      0.29833   3.4205e+07        0.126012   \n",
       "LGBMRegressor()              0.32415  3.35695e+07        0.006001   \n",
       "\n",
       "                                                           Best parameters  \n",
       "Model for energy                                                            \n",
       "Ridge()                                                {'alpha': 3.053856}  \n",
       "Lasso()                                                {'alpha': 0.001417}  \n",
       "SVR(kernel='linear')                              {'C': 1, 'epsilon': 0.3}  \n",
       "SVR()                            {'C': 3, 'epsilon': 0.1, 'kernel': 'rbf'}  \n",
       "RandomForestRegressor()  {'max_depth': 13, 'min_samples_leaf': 1, 'min_...  \n",
       "LGBMRegressor()          {'boosting_type': 'gbdt', 'learning_rate': 0.1...  "
      ]
     },
     "execution_count": 393,
     "metadata": {},
     "output_type": "execute_result"
    }
   ],
   "source": [
    "model3_energy"
   ]
  },
  {
   "cell_type": "code",
   "execution_count": 394,
   "metadata": {},
   "outputs": [
    {
     "data": {
      "text/html": [
       "<div>\n",
       "<style scoped>\n",
       "    .dataframe tbody tr th:only-of-type {\n",
       "        vertical-align: middle;\n",
       "    }\n",
       "\n",
       "    .dataframe tbody tr th {\n",
       "        vertical-align: top;\n",
       "    }\n",
       "\n",
       "    .dataframe thead th {\n",
       "        text-align: right;\n",
       "    }\n",
       "</style>\n",
       "<table border=\"1\" class=\"dataframe\">\n",
       "  <thead>\n",
       "    <tr style=\"text-align: right;\">\n",
       "      <th></th>\n",
       "      <th>R²</th>\n",
       "      <th>RMSE</th>\n",
       "      <th>Prediction time</th>\n",
       "      <th>Best parameters</th>\n",
       "    </tr>\n",
       "    <tr>\n",
       "      <th>Model for energy</th>\n",
       "      <th></th>\n",
       "      <th></th>\n",
       "      <th></th>\n",
       "      <th></th>\n",
       "    </tr>\n",
       "  </thead>\n",
       "  <tbody>\n",
       "    <tr>\n",
       "      <th>LinearRegression()</th>\n",
       "      <td>-0.39633</td>\n",
       "      <td>1.42282e+07</td>\n",
       "      <td>0.002001</td>\n",
       "      <td>{}</td>\n",
       "    </tr>\n",
       "    <tr>\n",
       "      <th>Ridge()</th>\n",
       "      <td>-0.11385</td>\n",
       "      <td>1.27077e+07</td>\n",
       "      <td>0.003</td>\n",
       "      <td>{'alpha': 100.0}</td>\n",
       "    </tr>\n",
       "    <tr>\n",
       "      <th>Lasso()</th>\n",
       "      <td>0.16385</td>\n",
       "      <td>1.10103e+07</td>\n",
       "      <td>0.001999</td>\n",
       "      <td>{'alpha': 0.162975}</td>\n",
       "    </tr>\n",
       "    <tr>\n",
       "      <th>SVR(kernel='linear')</th>\n",
       "      <td>-0.70141</td>\n",
       "      <td>1.57058e+07</td>\n",
       "      <td>0.020003</td>\n",
       "      <td>{'C': 2, 'epsilon': 0.7}</td>\n",
       "    </tr>\n",
       "    <tr>\n",
       "      <th>SVR()</th>\n",
       "      <td>0.49066</td>\n",
       "      <td>8.5933e+06</td>\n",
       "      <td>0.067004</td>\n",
       "      <td>{'C': 4, 'epsilon': 0.1, 'kernel': 'rbf'}</td>\n",
       "    </tr>\n",
       "    <tr>\n",
       "      <th>RandomForestRegressor()</th>\n",
       "      <td>0.64603</td>\n",
       "      <td>7.16375e+06</td>\n",
       "      <td>0.039003</td>\n",
       "      <td>{'max_depth': 11, 'min_samples_leaf': 2, 'min_...</td>\n",
       "    </tr>\n",
       "    <tr>\n",
       "      <th>LGBMRegressor()</th>\n",
       "      <td>0.72026</td>\n",
       "      <td>6.36841e+06</td>\n",
       "      <td>0.008001</td>\n",
       "      <td>{'boosting_type': 'gbdt', 'learning_rate': 0.1...</td>\n",
       "    </tr>\n",
       "  </tbody>\n",
       "</table>\n",
       "</div>"
      ],
      "text/plain": [
       "                              R²         RMSE Prediction time  \\\n",
       "Model for energy                                                \n",
       "LinearRegression()      -0.39633  1.42282e+07        0.002001   \n",
       "Ridge()                 -0.11385  1.27077e+07           0.003   \n",
       "Lasso()                  0.16385  1.10103e+07        0.001999   \n",
       "SVR(kernel='linear')    -0.70141  1.57058e+07        0.020003   \n",
       "SVR()                    0.49066   8.5933e+06        0.067004   \n",
       "RandomForestRegressor()  0.64603  7.16375e+06        0.039003   \n",
       "LGBMRegressor()          0.72026  6.36841e+06        0.008001   \n",
       "\n",
       "                                                           Best parameters  \n",
       "Model for energy                                                            \n",
       "LinearRegression()                                                      {}  \n",
       "Ridge()                                                   {'alpha': 100.0}  \n",
       "Lasso()                                                {'alpha': 0.162975}  \n",
       "SVR(kernel='linear')                              {'C': 2, 'epsilon': 0.7}  \n",
       "SVR()                            {'C': 4, 'epsilon': 0.1, 'kernel': 'rbf'}  \n",
       "RandomForestRegressor()  {'max_depth': 11, 'min_samples_leaf': 2, 'min_...  \n",
       "LGBMRegressor()          {'boosting_type': 'gbdt', 'learning_rate': 0.1...  "
      ]
     },
     "execution_count": 394,
     "metadata": {},
     "output_type": "execute_result"
    }
   ],
   "source": [
    "model4_energy"
   ]
  },
  {
   "cell_type": "code",
   "execution_count": 395,
   "metadata": {},
   "outputs": [
    {
     "data": {
      "text/html": [
       "<div>\n",
       "<style scoped>\n",
       "    .dataframe tbody tr th:only-of-type {\n",
       "        vertical-align: middle;\n",
       "    }\n",
       "\n",
       "    .dataframe tbody tr th {\n",
       "        vertical-align: top;\n",
       "    }\n",
       "\n",
       "    .dataframe thead th {\n",
       "        text-align: right;\n",
       "    }\n",
       "</style>\n",
       "<table border=\"1\" class=\"dataframe\">\n",
       "  <thead>\n",
       "    <tr style=\"text-align: right;\">\n",
       "      <th></th>\n",
       "      <th>R²</th>\n",
       "      <th>RMSE</th>\n",
       "      <th>Prediction time</th>\n",
       "      <th>Best parameters</th>\n",
       "    </tr>\n",
       "    <tr>\n",
       "      <th>Model for GHG</th>\n",
       "      <th></th>\n",
       "      <th></th>\n",
       "      <th></th>\n",
       "      <th></th>\n",
       "    </tr>\n",
       "  </thead>\n",
       "  <tbody>\n",
       "    <tr>\n",
       "      <th>LinearRegression()</th>\n",
       "      <td>-8.61078e+21</td>\n",
       "      <td>7.09853e+13</td>\n",
       "      <td>0.003003</td>\n",
       "      <td>{}</td>\n",
       "    </tr>\n",
       "    <tr>\n",
       "      <th>Ridge()</th>\n",
       "      <td>-1.3269e+23</td>\n",
       "      <td>2.78655e+14</td>\n",
       "      <td>0.004</td>\n",
       "      <td>{'alpha': 2.31013}</td>\n",
       "    </tr>\n",
       "    <tr>\n",
       "      <th>Lasso()</th>\n",
       "      <td>-1.34966e+24</td>\n",
       "      <td>8.8871e+14</td>\n",
       "      <td>0.003999</td>\n",
       "      <td>{'alpha': 0.003765}</td>\n",
       "    </tr>\n",
       "    <tr>\n",
       "      <th>SVR(kernel='linear')</th>\n",
       "      <td>-1.40516e+30</td>\n",
       "      <td>9.06796e+17</td>\n",
       "      <td>0.086005</td>\n",
       "      <td>{'C': 1, 'epsilon': 0.2}</td>\n",
       "    </tr>\n",
       "    <tr>\n",
       "      <th>SVR()</th>\n",
       "      <td>0.13881</td>\n",
       "      <td>709.9</td>\n",
       "      <td>0.053005</td>\n",
       "      <td>{'C': 3, 'epsilon': 0.7, 'kernel': 'rbf'}</td>\n",
       "    </tr>\n",
       "    <tr>\n",
       "      <th>RandomForestRegressor()</th>\n",
       "      <td>0.4824</td>\n",
       "      <td>550.358</td>\n",
       "      <td>0.046004</td>\n",
       "      <td>{'max_depth': 15, 'min_samples_leaf': 1, 'min_...</td>\n",
       "    </tr>\n",
       "    <tr>\n",
       "      <th>LGBMRegressor()</th>\n",
       "      <td>0.34434</td>\n",
       "      <td>619.423</td>\n",
       "      <td>0.004001</td>\n",
       "      <td>{'boosting_type': 'gbdt', 'learning_rate': 0.1...</td>\n",
       "    </tr>\n",
       "  </tbody>\n",
       "</table>\n",
       "</div>"
      ],
      "text/plain": [
       "                                  R²         RMSE Prediction time  \\\n",
       "Model for GHG                                                       \n",
       "LinearRegression()      -8.61078e+21  7.09853e+13        0.003003   \n",
       "Ridge()                  -1.3269e+23  2.78655e+14           0.004   \n",
       "Lasso()                 -1.34966e+24   8.8871e+14        0.003999   \n",
       "SVR(kernel='linear')    -1.40516e+30  9.06796e+17        0.086005   \n",
       "SVR()                        0.13881        709.9        0.053005   \n",
       "RandomForestRegressor()       0.4824      550.358        0.046004   \n",
       "LGBMRegressor()              0.34434      619.423        0.004001   \n",
       "\n",
       "                                                           Best parameters  \n",
       "Model for GHG                                                               \n",
       "LinearRegression()                                                      {}  \n",
       "Ridge()                                                 {'alpha': 2.31013}  \n",
       "Lasso()                                                {'alpha': 0.003765}  \n",
       "SVR(kernel='linear')                              {'C': 1, 'epsilon': 0.2}  \n",
       "SVR()                            {'C': 3, 'epsilon': 0.7, 'kernel': 'rbf'}  \n",
       "RandomForestRegressor()  {'max_depth': 15, 'min_samples_leaf': 1, 'min_...  \n",
       "LGBMRegressor()          {'boosting_type': 'gbdt', 'learning_rate': 0.1...  "
      ]
     },
     "execution_count": 395,
     "metadata": {},
     "output_type": "execute_result"
    }
   ],
   "source": [
    "model1_ghg"
   ]
  },
  {
   "cell_type": "code",
   "execution_count": 396,
   "metadata": {},
   "outputs": [
    {
     "data": {
      "text/html": [
       "<div>\n",
       "<style scoped>\n",
       "    .dataframe tbody tr th:only-of-type {\n",
       "        vertical-align: middle;\n",
       "    }\n",
       "\n",
       "    .dataframe tbody tr th {\n",
       "        vertical-align: top;\n",
       "    }\n",
       "\n",
       "    .dataframe thead th {\n",
       "        text-align: right;\n",
       "    }\n",
       "</style>\n",
       "<table border=\"1\" class=\"dataframe\">\n",
       "  <thead>\n",
       "    <tr style=\"text-align: right;\">\n",
       "      <th></th>\n",
       "      <th>R²</th>\n",
       "      <th>RMSE</th>\n",
       "      <th>Prediction time</th>\n",
       "      <th>Best parameters</th>\n",
       "    </tr>\n",
       "    <tr>\n",
       "      <th>Model for GHG</th>\n",
       "      <th></th>\n",
       "      <th></th>\n",
       "      <th></th>\n",
       "      <th></th>\n",
       "    </tr>\n",
       "  </thead>\n",
       "  <tbody>\n",
       "    <tr>\n",
       "      <th>LinearRegression()</th>\n",
       "      <td>-3.84404e+22</td>\n",
       "      <td>1.49983e+14</td>\n",
       "      <td>0.005002</td>\n",
       "      <td>{}</td>\n",
       "    </tr>\n",
       "    <tr>\n",
       "      <th>Ridge()</th>\n",
       "      <td>-3.21074e+23</td>\n",
       "      <td>4.33461e+14</td>\n",
       "      <td>0.001</td>\n",
       "      <td>{'alpha': 4.641589}</td>\n",
       "    </tr>\n",
       "    <tr>\n",
       "      <th>Lasso()</th>\n",
       "      <td>-6.76463e+23</td>\n",
       "      <td>6.29172e+14</td>\n",
       "      <td>0.002002</td>\n",
       "      <td>{'alpha': 0.002477}</td>\n",
       "    </tr>\n",
       "    <tr>\n",
       "      <th>SVR(kernel='linear')</th>\n",
       "      <td>-1.08898e+29</td>\n",
       "      <td>2.5244e+17</td>\n",
       "      <td>0.057004</td>\n",
       "      <td>{'C': 1, 'epsilon': 0.4}</td>\n",
       "    </tr>\n",
       "    <tr>\n",
       "      <th>SVR()</th>\n",
       "      <td>0.16586</td>\n",
       "      <td>698.661</td>\n",
       "      <td>0.058008</td>\n",
       "      <td>{'C': 3, 'epsilon': 0.5, 'kernel': 'rbf'}</td>\n",
       "    </tr>\n",
       "    <tr>\n",
       "      <th>RandomForestRegressor()</th>\n",
       "      <td>0.5214</td>\n",
       "      <td>529.217</td>\n",
       "      <td>0.028002</td>\n",
       "      <td>{'max_depth': 15, 'min_samples_leaf': 1, 'min_...</td>\n",
       "    </tr>\n",
       "    <tr>\n",
       "      <th>LGBMRegressor()</th>\n",
       "      <td>0.52253</td>\n",
       "      <td>528.593</td>\n",
       "      <td>0.008001</td>\n",
       "      <td>{'boosting_type': 'gbdt', 'learning_rate': 0.1...</td>\n",
       "    </tr>\n",
       "  </tbody>\n",
       "</table>\n",
       "</div>"
      ],
      "text/plain": [
       "                                  R²         RMSE Prediction time  \\\n",
       "Model for GHG                                                       \n",
       "LinearRegression()      -3.84404e+22  1.49983e+14        0.005002   \n",
       "Ridge()                 -3.21074e+23  4.33461e+14           0.001   \n",
       "Lasso()                 -6.76463e+23  6.29172e+14        0.002002   \n",
       "SVR(kernel='linear')    -1.08898e+29   2.5244e+17        0.057004   \n",
       "SVR()                        0.16586      698.661        0.058008   \n",
       "RandomForestRegressor()       0.5214      529.217        0.028002   \n",
       "LGBMRegressor()              0.52253      528.593        0.008001   \n",
       "\n",
       "                                                           Best parameters  \n",
       "Model for GHG                                                               \n",
       "LinearRegression()                                                      {}  \n",
       "Ridge()                                                {'alpha': 4.641589}  \n",
       "Lasso()                                                {'alpha': 0.002477}  \n",
       "SVR(kernel='linear')                              {'C': 1, 'epsilon': 0.4}  \n",
       "SVR()                            {'C': 3, 'epsilon': 0.5, 'kernel': 'rbf'}  \n",
       "RandomForestRegressor()  {'max_depth': 15, 'min_samples_leaf': 1, 'min_...  \n",
       "LGBMRegressor()          {'boosting_type': 'gbdt', 'learning_rate': 0.1...  "
      ]
     },
     "execution_count": 396,
     "metadata": {},
     "output_type": "execute_result"
    }
   ],
   "source": [
    "model2_ghg"
   ]
  },
  {
   "cell_type": "code",
   "execution_count": 397,
   "metadata": {},
   "outputs": [
    {
     "data": {
      "text/html": [
       "<div>\n",
       "<style scoped>\n",
       "    .dataframe tbody tr th:only-of-type {\n",
       "        vertical-align: middle;\n",
       "    }\n",
       "\n",
       "    .dataframe tbody tr th {\n",
       "        vertical-align: top;\n",
       "    }\n",
       "\n",
       "    .dataframe thead th {\n",
       "        text-align: right;\n",
       "    }\n",
       "</style>\n",
       "<table border=\"1\" class=\"dataframe\">\n",
       "  <thead>\n",
       "    <tr style=\"text-align: right;\">\n",
       "      <th></th>\n",
       "      <th>R²</th>\n",
       "      <th>RMSE</th>\n",
       "      <th>Prediction time</th>\n",
       "      <th>Best parameters</th>\n",
       "    </tr>\n",
       "    <tr>\n",
       "      <th>Model for GHG</th>\n",
       "      <th></th>\n",
       "      <th></th>\n",
       "      <th></th>\n",
       "      <th></th>\n",
       "    </tr>\n",
       "  </thead>\n",
       "  <tbody>\n",
       "    <tr>\n",
       "      <th>Ridge()</th>\n",
       "      <td>-1.52087e+23</td>\n",
       "      <td>2.98327e+14</td>\n",
       "      <td>0.001999</td>\n",
       "      <td>{'alpha': 4.641589}</td>\n",
       "    </tr>\n",
       "    <tr>\n",
       "      <th>Lasso()</th>\n",
       "      <td>-3.51195e+23</td>\n",
       "      <td>4.53337e+14</td>\n",
       "      <td>0.005004</td>\n",
       "      <td>{'alpha': 0.003275}</td>\n",
       "    </tr>\n",
       "    <tr>\n",
       "      <th>SVR(kernel='linear')</th>\n",
       "      <td>-4.16005e+24</td>\n",
       "      <td>1.56026e+15</td>\n",
       "      <td>0.101007</td>\n",
       "      <td>{'C': 1, 'epsilon': 0.2}</td>\n",
       "    </tr>\n",
       "    <tr>\n",
       "      <th>SVR()</th>\n",
       "      <td>0.18109</td>\n",
       "      <td>692.254</td>\n",
       "      <td>0.166004</td>\n",
       "      <td>{'C': 3, 'epsilon': 0.3, 'kernel': 'rbf'}</td>\n",
       "    </tr>\n",
       "    <tr>\n",
       "      <th>RandomForestRegressor()</th>\n",
       "      <td>0.63126</td>\n",
       "      <td>464.526</td>\n",
       "      <td>0.033002</td>\n",
       "      <td>{'max_depth': 14, 'min_samples_leaf': 1, 'min_...</td>\n",
       "    </tr>\n",
       "    <tr>\n",
       "      <th>LGBMRegressor()</th>\n",
       "      <td>0.50519</td>\n",
       "      <td>538.103</td>\n",
       "      <td>0.007001</td>\n",
       "      <td>{'boosting_type': 'gbdt', 'learning_rate': 0.1...</td>\n",
       "    </tr>\n",
       "  </tbody>\n",
       "</table>\n",
       "</div>"
      ],
      "text/plain": [
       "                                  R²         RMSE Prediction time  \\\n",
       "Model for GHG                                                       \n",
       "Ridge()                 -1.52087e+23  2.98327e+14        0.001999   \n",
       "Lasso()                 -3.51195e+23  4.53337e+14        0.005004   \n",
       "SVR(kernel='linear')    -4.16005e+24  1.56026e+15        0.101007   \n",
       "SVR()                        0.18109      692.254        0.166004   \n",
       "RandomForestRegressor()      0.63126      464.526        0.033002   \n",
       "LGBMRegressor()              0.50519      538.103        0.007001   \n",
       "\n",
       "                                                           Best parameters  \n",
       "Model for GHG                                                               \n",
       "Ridge()                                                {'alpha': 4.641589}  \n",
       "Lasso()                                                {'alpha': 0.003275}  \n",
       "SVR(kernel='linear')                              {'C': 1, 'epsilon': 0.2}  \n",
       "SVR()                            {'C': 3, 'epsilon': 0.3, 'kernel': 'rbf'}  \n",
       "RandomForestRegressor()  {'max_depth': 14, 'min_samples_leaf': 1, 'min_...  \n",
       "LGBMRegressor()          {'boosting_type': 'gbdt', 'learning_rate': 0.1...  "
      ]
     },
     "execution_count": 397,
     "metadata": {},
     "output_type": "execute_result"
    }
   ],
   "source": [
    "model3_ghg"
   ]
  },
  {
   "cell_type": "code",
   "execution_count": 398,
   "metadata": {},
   "outputs": [
    {
     "data": {
      "text/html": [
       "<div>\n",
       "<style scoped>\n",
       "    .dataframe tbody tr th:only-of-type {\n",
       "        vertical-align: middle;\n",
       "    }\n",
       "\n",
       "    .dataframe tbody tr th {\n",
       "        vertical-align: top;\n",
       "    }\n",
       "\n",
       "    .dataframe thead th {\n",
       "        text-align: right;\n",
       "    }\n",
       "</style>\n",
       "<table border=\"1\" class=\"dataframe\">\n",
       "  <thead>\n",
       "    <tr style=\"text-align: right;\">\n",
       "      <th></th>\n",
       "      <th>R²</th>\n",
       "      <th>RMSE</th>\n",
       "      <th>Prediction time</th>\n",
       "      <th>Best parameters</th>\n",
       "    </tr>\n",
       "    <tr>\n",
       "      <th>Model for GHG</th>\n",
       "      <th></th>\n",
       "      <th></th>\n",
       "      <th></th>\n",
       "      <th></th>\n",
       "    </tr>\n",
       "  </thead>\n",
       "  <tbody>\n",
       "    <tr>\n",
       "      <th>LinearRegression()</th>\n",
       "      <td>-0.01205</td>\n",
       "      <td>341.235</td>\n",
       "      <td>0.001999</td>\n",
       "      <td>{}</td>\n",
       "    </tr>\n",
       "    <tr>\n",
       "      <th>Ridge()</th>\n",
       "      <td>0.01615</td>\n",
       "      <td>336.448</td>\n",
       "      <td>0.001999</td>\n",
       "      <td>{'alpha': 100.0}</td>\n",
       "    </tr>\n",
       "    <tr>\n",
       "      <th>Lasso()</th>\n",
       "      <td>0.04314</td>\n",
       "      <td>331.799</td>\n",
       "      <td>0.002999</td>\n",
       "      <td>{'alpha': 0.187382}</td>\n",
       "    </tr>\n",
       "    <tr>\n",
       "      <th>SVR(kernel='linear')</th>\n",
       "      <td>-0.02982</td>\n",
       "      <td>344.217</td>\n",
       "      <td>0.027002</td>\n",
       "      <td>{'C': 1, 'epsilon': 0.9}</td>\n",
       "    </tr>\n",
       "    <tr>\n",
       "      <th>SVR()</th>\n",
       "      <td>0.20607</td>\n",
       "      <td>302.234</td>\n",
       "      <td>0.060005</td>\n",
       "      <td>{'C': 3, 'epsilon': 0.6, 'kernel': 'rbf'}</td>\n",
       "    </tr>\n",
       "    <tr>\n",
       "      <th>RandomForestRegressor()</th>\n",
       "      <td>0.37793</td>\n",
       "      <td>267.53</td>\n",
       "      <td>0.029003</td>\n",
       "      <td>{'max_depth': 15, 'min_samples_leaf': 2, 'min_...</td>\n",
       "    </tr>\n",
       "    <tr>\n",
       "      <th>LGBMRegressor()</th>\n",
       "      <td>0.40179</td>\n",
       "      <td>262.349</td>\n",
       "      <td>0.004999</td>\n",
       "      <td>{'boosting_type': 'goss', 'learning_rate': 0.1...</td>\n",
       "    </tr>\n",
       "  </tbody>\n",
       "</table>\n",
       "</div>"
      ],
      "text/plain": [
       "                              R²     RMSE Prediction time  \\\n",
       "Model for GHG                                               \n",
       "LinearRegression()      -0.01205  341.235        0.001999   \n",
       "Ridge()                  0.01615  336.448        0.001999   \n",
       "Lasso()                  0.04314  331.799        0.002999   \n",
       "SVR(kernel='linear')    -0.02982  344.217        0.027002   \n",
       "SVR()                    0.20607  302.234        0.060005   \n",
       "RandomForestRegressor()  0.37793   267.53        0.029003   \n",
       "LGBMRegressor()          0.40179  262.349        0.004999   \n",
       "\n",
       "                                                           Best parameters  \n",
       "Model for GHG                                                               \n",
       "LinearRegression()                                                      {}  \n",
       "Ridge()                                                   {'alpha': 100.0}  \n",
       "Lasso()                                                {'alpha': 0.187382}  \n",
       "SVR(kernel='linear')                              {'C': 1, 'epsilon': 0.9}  \n",
       "SVR()                            {'C': 3, 'epsilon': 0.6, 'kernel': 'rbf'}  \n",
       "RandomForestRegressor()  {'max_depth': 15, 'min_samples_leaf': 2, 'min_...  \n",
       "LGBMRegressor()          {'boosting_type': 'goss', 'learning_rate': 0.1...  "
      ]
     },
     "execution_count": 398,
     "metadata": {},
     "output_type": "execute_result"
    }
   ],
   "source": [
    "model4_ghg"
   ]
  },
  {
   "cell_type": "code",
   "execution_count": 425,
   "metadata": {},
   "outputs": [],
   "source": [
    "model1_energy.to_csv(r'C:\\Users\\BENAVEN\\Desktop\\Stevan\\Formation OCR\\Projet 4 - Anticipez les besoins en consommation\\model1_energy.csv')\n",
    "model2_energy.to_csv(r'C:\\Users\\BENAVEN\\Desktop\\Stevan\\Formation OCR\\Projet 4 - Anticipez les besoins en consommation\\model2_energy.csv')\n",
    "model3_energy.to_csv(r'C:\\Users\\BENAVEN\\Desktop\\Stevan\\Formation OCR\\Projet 4 - Anticipez les besoins en consommation\\model3_energy.csv')\n",
    "model4_energy.to_csv(r'C:\\Users\\BENAVEN\\Desktop\\Stevan\\Formation OCR\\Projet 4 - Anticipez les besoins en consommation\\model4_energy.csv')\n",
    "model1_ghg.to_csv(r'C:\\Users\\BENAVEN\\Desktop\\Stevan\\Formation OCR\\Projet 4 - Anticipez les besoins en consommation\\model1_ghg.csv')\n",
    "model2_ghg.to_csv(r'C:\\Users\\BENAVEN\\Desktop\\Stevan\\Formation OCR\\Projet 4 - Anticipez les besoins en consommation\\model2_ghg.csv')\n",
    "model3_ghg.to_csv(r'C:\\Users\\BENAVEN\\Desktop\\Stevan\\Formation OCR\\Projet 4 - Anticipez les besoins en consommation\\model3_ghg.csv')\n",
    "model4_ghg.to_csv(r'C:\\Users\\BENAVEN\\Desktop\\Stevan\\Formation OCR\\Projet 4 - Anticipez les besoins en consommation\\model4_ghg.csv')"
   ]
  },
  {
   "cell_type": "markdown",
   "metadata": {},
   "source": [
    "Optimisation des hyperparamètres du meilleur modèle"
   ]
  },
  {
   "cell_type": "code",
   "execution_count": 16,
   "metadata": {},
   "outputs": [
    {
     "name": "stdout",
     "output_type": "stream",
     "text": [
      "0.72441\n",
      "6321067.33415\n",
      "0.0600590705871582\n"
     ]
    }
   ],
   "source": [
    "gb_energy = LGBMRegressor(n_estimators = 2200, max_depth = 4, learning_rate = 0.01, boosting_type = 'gbdt');\n",
    "gb_energy.fit(X_train,Y_energy_train)\n",
    "start_time = time.time()\n",
    "score = round(metrics.r2_score(np.expm1(Y_energy_test),np.expm1(gb_energy.predict(X_test))),5)\n",
    "RMSE = round(metrics.mean_squared_error(np.expm1(Y_energy_test),np.expm1(gb_energy.predict(X_test)), squared = False),5)\n",
    "pred_time = time.time()-start_time\n",
    "print(score)\n",
    "print(RMSE)\n",
    "print(pred_time)"
   ]
  },
  {
   "cell_type": "code",
   "execution_count": 17,
   "metadata": {},
   "outputs": [
    {
     "name": "stdout",
     "output_type": "stream",
     "text": [
      "0.67283\n",
      "194.01755\n",
      "0.046877145767211914\n"
     ]
    }
   ],
   "source": [
    "gb_ghg = LGBMRegressor(n_estimators = 2180, max_depth = 4, learning_rate = 0.2, boosting_type = 'goss');\n",
    "gb_ghg.fit(X_train,Y_ghg_train)\n",
    "start_time = time.time()\n",
    "score =round(metrics.r2_score(np.expm1(Y_ghg_test),np.expm1(gb_ghg.predict(X_test))),5)\n",
    "RMSE = round(metrics.mean_squared_error(np.expm1(Y_ghg_test),np.expm1(gb_ghg.predict(X_test)), squared = False),5)\n",
    "pred_time = time.time()-start_time\n",
    "\n",
    "print(score)\n",
    "print(RMSE)\n",
    "print(pred_time)"
   ]
  },
  {
   "cell_type": "markdown",
   "metadata": {},
   "source": [
    "## Analyse des erreurs et de l'importance des features"
   ]
  },
  {
   "cell_type": "code",
   "execution_count": 19,
   "metadata": {},
   "outputs": [
    {
     "data": {
      "image/png": "[encoded data removed]",
      "text/plain": [
       "<Figure size 720x432 with 1 Axes>"
      ]
     },
     "metadata": {
      "needs_background": "light"
     },
     "output_type": "display_data"
    }
   ],
   "source": [
    "X = np.expm1(Y_energy_test)\n",
    "Y = abs(np.expm1(Y_energy_test) - np.expm1(gb_energy.predict(X_test)))\n",
    "plt.figure(figsize=(10,6))\n",
    "plt.xscale(\"log\")\n",
    "plt.yscale(\"log\")\n",
    "plt.xlabel(\"Y true\")\n",
    "plt.ylabel(\"Error (Y true - Y pred)\")\n",
    "plt.title(\"Error vs Y true (Energy target)\")\n",
    "plt.scatter(X,Y);"
   ]
  },
  {
   "cell_type": "code",
   "execution_count": 20,
   "metadata": {},
   "outputs": [
    {
     "data": {
      "image/png": "[encoded data removed]",
      "text/plain": [
       "<Figure size 720x432 with 1 Axes>"
      ]
     },
     "metadata": {
      "needs_background": "light"
     },
     "output_type": "display_data"
    }
   ],
   "source": [
    "X = np.expm1(Y_ghg_test)\n",
    "Y = abs(np.expm1(Y_ghg_test) - np.expm1(gb_ghg.predict(X_test)))\n",
    "plt.figure(figsize=(10,6))\n",
    "plt.xscale(\"log\")\n",
    "plt.yscale(\"log\")\n",
    "plt.xlabel(\"Y true\")\n",
    "plt.ylabel(\"Error (Y true - Y pred)\")\n",
    "plt.title(\"Error vs Y true (GHG target)\")\n",
    "plt.scatter(X,Y);"
   ]
  },
  {
   "cell_type": "code",
   "execution_count": 22,
   "metadata": {},
   "outputs": [],
   "source": [
    "type_train, type_test= train_test_split(df['PrimaryPropertyType'], test_size=0.3, stratify = df['PrimaryPropertyType'], random_state = 1)"
   ]
  },
  {
   "cell_type": "code",
   "execution_count": 23,
   "metadata": {},
   "outputs": [],
   "source": [
    "Y_energy = abs(np.expm1(Y_energy_test) - np.expm1(gb_energy.predict(X_test)))\n",
    "data_energy = pd.DataFrame(data = {'Type': type_test, 'abs error' : Y_energy, 'relative error': Y/np.expm1(Y_energy_test)})\n",
    "data_energy = data_energy.groupby(by='Type').median()\n",
    "Y_ghg = abs(np.expm1(Y_ghg_test) - np.expm1(gb_ghg.predict(X_test)))\n",
    "data_ghg = pd.DataFrame(data = {'Type': type_test, 'abs error' : Y_ghg, 'relative error': Y/np.expm1(Y_ghg_test)})\n",
    "data_ghg = data_ghg.groupby(by='Type').median()"
   ]
  },
  {
   "cell_type": "code",
   "execution_count": 25,
   "metadata": {},
   "outputs": [
    {
     "data": {
      "image/png": "[encoded data removed]",
      "text/plain": [
       "<Figure size 864x576 with 1 Axes>"
      ]
     },
     "metadata": {
      "needs_background": "light"
     },
     "output_type": "display_data"
    }
   ],
   "source": [
    "data1 = data_energy.sort_values(by='abs error')\n",
    "plt.figure(figsize=(12,8))\n",
    "plt.xlabel(\"Absolute error\")\n",
    "plt.ylabel(\"Primary Use\")\n",
    "plt.title(\"Median absolute error of building category (Energy target)\")\n",
    "plt.barh(data1.index , data1['abs error']);"
   ]
  },
  {
   "cell_type": "code",
   "execution_count": 26,
   "metadata": {},
   "outputs": [
    {
     "data": {
      "image/png": "[encoded data removed]",
      "text/plain": [
       "<Figure size 864x576 with 1 Axes>"
      ]
     },
     "metadata": {
      "needs_background": "light"
     },
     "output_type": "display_data"
    }
   ],
   "source": [
    "data2 = data_ghg.sort_values(by='abs error')\n",
    "plt.figure(figsize=(12,8))\n",
    "plt.xlabel(\"Absolute error\")\n",
    "plt.ylabel(\"Primary Use\")\n",
    "plt.title(\"Median absolute error of building category (GHG target)\")\n",
    "plt.barh(data2.index , data2['abs error']);"
   ]
  },
  {
   "cell_type": "code",
   "execution_count": 516,
   "metadata": {},
   "outputs": [
    {
     "data": {
      "image/png": "[encoded data removed]",
      "text/plain": [
       "<Figure size 864x720 with 1 Axes>"
      ]
     },
     "metadata": {
      "needs_background": "light"
     },
     "output_type": "display_data"
    }
   ],
   "source": [
    "names = sorted(df['PrimaryPropertyType'].unique())+sorted(df['Neighborhood'].unique())+X_quant.columns.tolist()\n",
    "data = pd.DataFrame(data = {'Names' : names, 'Importance':gb_energy.feature_importances_}).sort_values(by='Importance')\n",
    "plt.figure(figsize=(12,10))\n",
    "plt.xlabel(\"Importance\")\n",
    "plt.ylabel(\"Feature\")\n",
    "plt.title(\"Feature importance (Energy target)\")\n",
    "plt.barh(data['Names'] ,data['Importance']);"
   ]
  },
  {
   "cell_type": "code",
   "execution_count": 517,
   "metadata": {},
   "outputs": [
    {
     "data": {
      "image/png": "[encoded data removed]",
      "text/plain": [
       "<Figure size 864x720 with 1 Axes>"
      ]
     },
     "metadata": {
      "needs_background": "light"
     },
     "output_type": "display_data"
    }
   ],
   "source": [
    "names = sorted(df['PrimaryPropertyType'].unique())+sorted(df['Neighborhood'].unique())+X_quant.columns.tolist()\n",
    "data = pd.DataFrame(data = {'Names' : names, 'Importance':gb_ghg.feature_importances_}).sort_values(by='Importance')\n",
    "plt.figure(figsize=(12,10))\n",
    "plt.xlabel(\"Importance\")\n",
    "plt.ylabel(\"Feature\")\n",
    "plt.title(\"Feature importance (GHG target)\")\n",
    "plt.barh(data['Names'] ,data['Importance']);"
   ]
  },
  {
   "cell_type": "markdown",
   "metadata": {},
   "source": [
    "Sélection des features les plus importantes "
   ]
  },
  {
   "cell_type": "code",
   "execution_count": 14,
   "metadata": {},
   "outputs": [],
   "source": [
    "skb=SelectKBest(f_regression, k=15)\n",
    "skb.fit(X_train,Y_energy_train)\n",
    "X_new_train = skb.transform(X_train)\n",
    "X_new_test = skb.transform(X_test)"
   ]
  },
  {
   "cell_type": "code",
   "execution_count": 15,
   "metadata": {},
   "outputs": [
    {
     "name": "stdout",
     "output_type": "stream",
     "text": [
      "0.73973\n",
      "6142758.70332\n",
      "0.062170982360839844\n"
     ]
    }
   ],
   "source": [
    "gb_energy_new = LGBMRegressor(n_estimators = 2200, max_depth = 4, learning_rate = 0.01, boosting_type = 'gbdt');\n",
    "gb_energy_new.fit(X_new_train,Y_energy_train)\n",
    "start_time=time.time()\n",
    "print(round(metrics.r2_score(np.expm1(Y_energy_test),np.expm1(gb_energy_new.predict(X_new_test))),5))\n",
    "print(round(metrics.mean_squared_error(np.expm1(Y_energy_test),np.expm1(gb_energy_new.predict(X_new_test)), squared = False),5))\n",
    "print(time.time()-start_time)"
   ]
  },
  {
   "cell_type": "code",
   "execution_count": 38,
   "metadata": {},
   "outputs": [],
   "source": [
    "skb_ghg=SelectKBest(f_regression, k=45)\n",
    "skb_ghg.fit(X_train,Y_ghg_train)\n",
    "X_new_ghg_train = skb_ghg.transform(X_train)\n",
    "X_new_ghg_test = skb_ghg.transform(X_test)"
   ]
  },
  {
   "cell_type": "code",
   "execution_count": 39,
   "metadata": {},
   "outputs": [
    {
     "name": "stdout",
     "output_type": "stream",
     "text": [
      "0.60931\n",
      "212.01461\n",
      "0.07018733024597168\n"
     ]
    }
   ],
   "source": [
    "gb_ghg_new = LGBMRegressor(n_estimators = 2180, max_depth = 4, learning_rate = 0.2, boosting_type = 'goss');\n",
    "gb_ghg_new.fit(X_new_ghg_train,Y_ghg_train)\n",
    "start_time=time.time()\n",
    "print(round(metrics.r2_score(np.expm1(Y_ghg_test),np.expm1(gb_ghg_new.predict(X_new_ghg_test))),5))\n",
    "print(round(metrics.mean_squared_error(np.expm1(Y_ghg_test),np.expm1(gb_ghg_new.predict(X_new_ghg_test)), squared = False),5))\n",
    "print(time.time()-start_time)"
   ]
  },
  {
   "cell_type": "code",
   "execution_count": null,
   "metadata": {},
   "outputs": [],
   "source": [
    "estimator = LGBMRegressor(n_estimators = 2200, max_depth = 4, learning_rate = 0.01, boosting_type = 'gbdt');\n",
    "rfe_gs=GridSearchCV(RFE(estimator), param_grid = {'n_features_to_select':range(5,40,2)})\n",
    "rfe_gs.fit(X_train,Y_energy_train)\n",
    "X_rfe_train = rfe.transform(X_train)\n",
    "X_rfe_test = skb.transform(X_test)"
   ]
  },
  {
   "cell_type": "code",
   "execution_count": 529,
   "metadata": {},
   "outputs": [
    {
     "data": {
      "text/plain": [
       "RFE(estimator=LGBMRegressor(learning_rate=0.01, max_depth=4, n_estimators=2200),\n",
       "    n_features_to_select=21)"
      ]
     },
     "execution_count": 529,
     "metadata": {},
     "output_type": "execute_result"
    }
   ],
   "source": [
    "rfe_gs.best_estimator_"
   ]
  },
  {
   "cell_type": "code",
   "execution_count": 532,
   "metadata": {},
   "outputs": [
    {
     "name": "stdout",
     "output_type": "stream",
     "text": [
      "0.73808\n",
      "0.051004886627197266\n"
     ]
    }
   ],
   "source": [
    "start_time=time.time()\n",
    "print(round(metrics.r2_score(np.expm1(Y_energy_test),np.expm1(rfe_gs.predict(X_test))),5))\n",
    "print(time.time()-start_time)"
   ]
  },
  {
   "cell_type": "code",
   "execution_count": 527,
   "metadata": {},
   "outputs": [
    {
     "data": {
      "text/plain": [
       "(1260, 20)"
      ]
     },
     "execution_count": 527,
     "metadata": {},
     "output_type": "execute_result"
    }
   ],
   "source": [
    "X_rfe_train.shape"
   ]
  },
  {
   "cell_type": "markdown",
   "metadata": {},
   "source": [
    "## Impact de la variable ENERGYSTARScore"
   ]
  },
  {
   "cell_type": "code",
   "execution_count": 410,
   "metadata": {},
   "outputs": [],
   "source": [
    "#Sélection du dataset sans l'ENERGYSTARScore pour comparaison sur le même échantillon\n",
    "df_ESS=df.dropna(subset=['ENERGYSTARScore'])"
   ]
  },
  {
   "cell_type": "code",
   "execution_count": 411,
   "metadata": {},
   "outputs": [
    {
     "data": {
      "text/plain": [
       "(1211, 11)"
      ]
     },
     "execution_count": 411,
     "metadata": {},
     "output_type": "execute_result"
    }
   ],
   "source": [
    "X_quant_w_ESS = df_ESS[['YearBuilt', 'NumberofBuildings', 'NumberofFloors',\n",
    "       'PropertyGFABuilding(s)','PropertyGFAParking','LargestPropertyUseTypeGFA','SecondLargestPropertyUseTypeGFA','MedianEnergyUse','MedianGHGEmission','NumberofUseTypes','ENERGYSTARScore']]\n",
    "X_quant_w_ESS.values.shape"
   ]
  },
  {
   "cell_type": "code",
   "execution_count": 412,
   "metadata": {},
   "outputs": [
    {
     "data": {
      "text/plain": [
       "(1211, 10)"
      ]
     },
     "execution_count": 412,
     "metadata": {},
     "output_type": "execute_result"
    }
   ],
   "source": [
    "X_quant_wo_ESS = df_ESS[['YearBuilt', 'NumberofBuildings', 'NumberofFloors',\n",
    "       'PropertyGFABuilding(s)','PropertyGFAParking','LargestPropertyUseTypeGFA','SecondLargestPropertyUseTypeGFA','MedianEnergyUse','MedianGHGEmission','NumberofUseTypes']]\n",
    "X_quant_wo_ESS.values.shape"
   ]
  },
  {
   "cell_type": "code",
   "execution_count": 413,
   "metadata": {},
   "outputs": [
    {
     "data": {
      "text/plain": [
       "(1211, 13)"
      ]
     },
     "execution_count": 413,
     "metadata": {},
     "output_type": "execute_result"
    }
   ],
   "source": [
    "data=df_ESS['Neighborhood'].values.reshape(-1,1)\n",
    "enc = preprocessing.OneHotEncoder()\n",
    "neighborhood_enc_ESS = enc.fit_transform(data).toarray()\n",
    "neighborhood_enc_ESS.shape"
   ]
  },
  {
   "cell_type": "code",
   "execution_count": 414,
   "metadata": {},
   "outputs": [
    {
     "data": {
      "text/plain": [
       "(1211, 20)"
      ]
     },
     "execution_count": 414,
     "metadata": {},
     "output_type": "execute_result"
    }
   ],
   "source": [
    "data=df_ESS['PrimaryPropertyType'].values.reshape(-1,1)\n",
    "enc = preprocessing.OneHotEncoder()\n",
    "PropertyType_enc_ESS = enc.fit_transform(data).toarray()\n",
    "PropertyType_enc_ESS.shape"
   ]
  },
  {
   "cell_type": "code",
   "execution_count": 415,
   "metadata": {},
   "outputs": [
    {
     "data": {
      "text/plain": [
       "(1211, 33)"
      ]
     },
     "execution_count": 415,
     "metadata": {},
     "output_type": "execute_result"
    }
   ],
   "source": [
    "# Concatenation des 2 encodages\n",
    "X_cat_ESS = np.concatenate((neighborhood_enc_ESS,PropertyType_enc_ESS),axis=1)\n",
    "X_cat_ESS.shape"
   ]
  },
  {
   "cell_type": "code",
   "execution_count": 416,
   "metadata": {},
   "outputs": [],
   "source": [
    "Y_energy_ESS = df_ESS['SiteEnergyUse(kBtu)_log']\n",
    "Y_ghg_ESS = df_ESS['GHGEmissions(MetricTonsCO2e)_log']"
   ]
  },
  {
   "cell_type": "code",
   "execution_count": 417,
   "metadata": {},
   "outputs": [],
   "source": [
    "X_cat_ESS_train, X_cat_ESS_test, X_quant_w_ESS_train, X_quant_w_ESS_test, X_quant_wo_ESS_train, X_quant_wo_ESS_test, Y_energy_ESS_train, Y_energy_ESS_test, Y_ghg_ESS_train, Y_ghg_ESS_test = train_test_split(X_cat_ESS, X_quant_w_ESS, X_quant_wo_ESS, Y_energy_ESS, Y_ghg_ESS, test_size=0.3, random_state = 6)"
   ]
  },
  {
   "cell_type": "code",
   "execution_count": 418,
   "metadata": {},
   "outputs": [],
   "source": [
    "# On standardise les variables input quantitatives. On fit_transform sur le jeu d'entrainement et on transforme le jeu de test\n",
    "std = preprocessing.StandardScaler()\n",
    "X_quant_w_ESS_train_scaled = std.fit_transform(X_quant_w_ESS_train)\n",
    "X_quant_w_ESS_test_scaled = std.transform(X_quant_w_ESS_test)\n",
    "X_quant_wo_ESS_train_scaled = std.fit_transform(X_quant_wo_ESS_train)\n",
    "X_quant_wo_ESS_test_scaled = std.transform(X_quant_wo_ESS_test)"
   ]
  },
  {
   "cell_type": "code",
   "execution_count": 419,
   "metadata": {},
   "outputs": [],
   "source": [
    "# Concatenation pour définir les input\n",
    "X_train_w_ESS = np.concatenate((X_cat_ESS_train,X_quant_w_ESS_train_scaled),axis=1)\n",
    "X_test_w_ESS = np.concatenate((X_cat_ESS_test,X_quant_w_ESS_test_scaled),axis=1)\n",
    "X_train_wo_ESS = np.concatenate((X_cat_ESS_train,X_quant_wo_ESS_train_scaled),axis=1)\n",
    "X_test_wo_ESS = np.concatenate((X_cat_ESS_test,X_quant_wo_ESS_test_scaled),axis=1)"
   ]
  },
  {
   "cell_type": "code",
   "execution_count": 639,
   "metadata": {},
   "outputs": [
    {
     "name": "stdout",
     "output_type": "stream",
     "text": [
      "0.62896\n",
      "5592453.15411\n"
     ]
    }
   ],
   "source": [
    "gb_energy_w_ESS = LGBMRegressor()\n",
    "gb_energy_w_ESS_gs = GridSearchCV(estimator = gb_energy_w_ESS, param_grid={'n_estimators':[100],'max_depth':[2,3,4],'learning_rate':[0.0001,0.001,0.01,0.1,1]}, cv=5)\n",
    "gb_energy_w_ESS_gs.fit(X_train_w_ESS, Y_energy_ESS_train)\n",
    "print(round(metrics.r2_score(np.expm1(Y_energy_ESS_test),np.expm1(gb_energy_w_ESS_gs.predict(X_test_w_ESS))),5))\n",
    "print(round(metrics.mean_squared_error(np.expm1(Y_energy_ESS_test),np.expm1(gb_energy_w_ESS_gs.predict(X_test_w_ESS)), squared = False),5))"
   ]
  },
  {
   "cell_type": "code",
   "execution_count": 640,
   "metadata": {},
   "outputs": [
    {
     "name": "stdout",
     "output_type": "stream",
     "text": [
      "0.63143\n",
      "5573794.45471\n"
     ]
    }
   ],
   "source": [
    "gb_energy_wo_ESS = LGBMRegressor()\n",
    "gb_energy_wo_ESS_gs = GridSearchCV(estimator = gb_energy_wo_ESS, param_grid={'n_estimators':[100],'max_depth':[2,3,4],'learning_rate':[0.0001,0.001,0.01,0.1,1]}, cv=5)\n",
    "gb_energy_wo_ESS_gs.fit(X_train_wo_ESS, Y_energy_ESS_train)\n",
    "print(round(metrics.r2_score(np.expm1(Y_energy_ESS_test),np.expm1(gb_energy_wo_ESS_gs.predict(X_test_wo_ESS))),5))\n",
    "print(round(metrics.mean_squared_error(np.expm1(Y_energy_ESS_test),np.expm1(gb_energy_wo_ESS_gs.predict(X_test_wo_ESS)), squared = False),5))"
   ]
  },
  {
   "cell_type": "code",
   "execution_count": 643,
   "metadata": {},
   "outputs": [
    {
     "name": "stdout",
     "output_type": "stream",
     "text": [
      "0.43282\n",
      "104.40575\n"
     ]
    }
   ],
   "source": [
    "gb_ghg_w_ESS = LGBMRegressor()\n",
    "gb_ghg_w_ESS_gs = GridSearchCV(estimator = gb_ghg_w_ESS, param_grid={'n_estimators':[100],'max_depth':[2,3,4],'learning_rate':[0.0001,0.001,0.01,0.1,1]}, cv=5)\n",
    "gb_ghg_w_ESS_gs.fit(X_train_w_ESS, Y_ghg_ESS_train)\n",
    "print(round(metrics.r2_score(np.expm1(Y_ghg_ESS_test),np.expm1(gb_ghg_w_ESS_gs.predict(X_test_w_ESS))),5))\n",
    "print(round(metrics.mean_squared_error(np.expm1(Y_ghg_ESS_test),np.expm1(gb_ghg_w_ESS_gs.predict(X_test_w_ESS)), squared = False),5))"
   ]
  },
  {
   "cell_type": "code",
   "execution_count": 642,
   "metadata": {},
   "outputs": [
    {
     "name": "stdout",
     "output_type": "stream",
     "text": [
      "0.52295\n",
      "95.75094\n"
     ]
    }
   ],
   "source": [
    "gb_ghg_wo_ESS = LGBMRegressor()\n",
    "gb_ghg_wo_ESS_gs = GridSearchCV(estimator = gb_ghg_wo_ESS, param_grid={'n_estimators':[100],'max_depth':[2,3,4],'learning_rate':[0.0001,0.001,0.01,0.1,1]}, cv=5)\n",
    "gb_ghg_wo_ESS_gs.fit(X_train_wo_ESS, Y_ghg_ESS_train)\n",
    "print(round(metrics.r2_score(np.expm1(Y_ghg_ESS_test),np.expm1(gb_ghg_wo_ESS_gs.predict(X_test_wo_ESS))),5))\n",
    "print(round(metrics.mean_squared_error(np.expm1(Y_ghg_ESS_test),np.expm1(gb_ghg_wo_ESS_gs.predict(X_test_wo_ESS)), squared = False),5))"
   ]
  },
  {
   "cell_type": "code",
   "execution_count": null,
   "metadata": {},
   "outputs": [],
   "source": []
  }
 ],
 "metadata": {
  "kernelspec": {
   "display_name": "Python 3",
   "language": "python",
   "name": "python3"
  },
  "language_info": {
   "codemirror_mode": {
    "name": "ipython",
    "version": 3
   },
   "file_extension": ".py",
   "mimetype": "text/x-python",
   "name": "python",
   "nbconvert_exporter": "python",
   "pygments_lexer": "ipython3",
   "version": "3.8.5"
  }
 },
 "nbformat": 4,
 "nbformat_minor": 4
}
